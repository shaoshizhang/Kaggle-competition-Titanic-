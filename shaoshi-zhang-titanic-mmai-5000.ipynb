{
 "cells": [
  {
   "cell_type": "markdown",
   "metadata": {
    "papermill": {
     "duration": 0.073268,
     "end_time": "2020-11-18T23:36:25.995141",
     "exception": false,
     "start_time": "2020-11-18T23:36:25.921873",
     "status": "completed"
    },
    "tags": []
   },
   "source": [
    "# **Step 1 : Import Libraries**"
   ]
  },
  {
   "cell_type": "code",
   "execution_count": 1,
   "metadata": {
    "_cell_guid": "b1076dfc-b9ad-4769-8c92-a6c4dae69d19",
    "_uuid": "8f2839f25d086af736a60e9eeb907d3b93b6e0e5",
    "execution": {
     "iopub.execute_input": "2020-11-18T23:36:26.159113Z",
     "iopub.status.busy": "2020-11-18T23:36:26.158166Z",
     "iopub.status.idle": "2020-11-18T23:36:27.699806Z",
     "shell.execute_reply": "2020-11-18T23:36:27.698992Z"
    },
    "papermill": {
     "duration": 1.627685,
     "end_time": "2020-11-18T23:36:27.699975",
     "exception": false,
     "start_time": "2020-11-18T23:36:26.072290",
     "status": "completed"
    },
    "tags": []
   },
   "outputs": [],
   "source": [
    "import numpy as np \n",
    "import pandas as pd \n",
    "\n",
    "import seaborn as sns\n",
    "%matplotlib inline\n",
    "from matplotlib import pyplot as plt\n",
    "from matplotlib import style\n",
    "\n",
    "# Models\n",
    "from sklearn import linear_model\n",
    "from sklearn.linear_model import LogisticRegression\n",
    "from sklearn.linear_model import LinearRegression\n",
    "from sklearn.ensemble import RandomForestClassifier\n",
    "from sklearn.linear_model import Perceptron\n",
    "from sklearn.linear_model import SGDClassifier\n",
    "from sklearn.tree import DecisionTreeClassifier\n",
    "from sklearn.neighbors import KNeighborsClassifier\n",
    "from sklearn.svm import SVC, LinearSVC\n",
    "from sklearn.naive_bayes import GaussianNB\n",
    "\n",
    "import string\n",
    "\n",
    "#ignore warnings\n",
    "import warnings\n",
    "warnings.filterwarnings('ignore')\n"
   ]
  },
  {
   "cell_type": "markdown",
   "metadata": {
    "papermill": {
     "duration": 0.070999,
     "end_time": "2020-11-18T23:36:27.843511",
     "exception": false,
     "start_time": "2020-11-18T23:36:27.772512",
     "status": "completed"
    },
    "tags": []
   },
   "source": [
    "# **Step 2 : Read Data**"
   ]
  },
  {
   "cell_type": "code",
   "execution_count": 2,
   "metadata": {
    "_cell_guid": "79c7e3d0-c299-4dcb-8224-4455121ee9b0",
    "_uuid": "d629ff2d2480ee46fbb7e2d37f6b5fab8052498a",
    "execution": {
     "iopub.execute_input": "2020-11-18T23:36:27.997239Z",
     "iopub.status.busy": "2020-11-18T23:36:27.996421Z",
     "iopub.status.idle": "2020-11-18T23:36:28.041419Z",
     "shell.execute_reply": "2020-11-18T23:36:28.040137Z"
    },
    "papermill": {
     "duration": 0.124612,
     "end_time": "2020-11-18T23:36:28.041612",
     "exception": false,
     "start_time": "2020-11-18T23:36:27.917000",
     "status": "completed"
    },
    "tags": []
   },
   "outputs": [],
   "source": [
    "df_train = pd.read_csv(\"/kaggle/input/titanic/train.csv\")\n",
    "df_test = pd.read_csv(\"/kaggle/input/titanic/test.csv\")\n",
    "\n",
    "def concat_df(train_data, test_data):\n",
    "    return pd.concat([train_data, test_data], sort=True).reset_index(drop=True)\n",
    "\n",
    "\n",
    "\n",
    "df_all = concat_df(df_train, df_test)"
   ]
  },
  {
   "cell_type": "code",
   "execution_count": 3,
   "metadata": {
    "execution": {
     "iopub.execute_input": "2020-11-18T23:36:28.199614Z",
     "iopub.status.busy": "2020-11-18T23:36:28.198802Z",
     "iopub.status.idle": "2020-11-18T23:36:28.226942Z",
     "shell.execute_reply": "2020-11-18T23:36:28.227542Z"
    },
    "papermill": {
     "duration": 0.108135,
     "end_time": "2020-11-18T23:36:28.227719",
     "exception": false,
     "start_time": "2020-11-18T23:36:28.119584",
     "status": "completed"
    },
    "tags": []
   },
   "outputs": [
    {
     "data": {
      "text/html": [
       "<div>\n",
       "<style scoped>\n",
       "    .dataframe tbody tr th:only-of-type {\n",
       "        vertical-align: middle;\n",
       "    }\n",
       "\n",
       "    .dataframe tbody tr th {\n",
       "        vertical-align: top;\n",
       "    }\n",
       "\n",
       "    .dataframe thead th {\n",
       "        text-align: right;\n",
       "    }\n",
       "</style>\n",
       "<table border=\"1\" class=\"dataframe\">\n",
       "  <thead>\n",
       "    <tr style=\"text-align: right;\">\n",
       "      <th></th>\n",
       "      <th>Age</th>\n",
       "      <th>Cabin</th>\n",
       "      <th>Embarked</th>\n",
       "      <th>Fare</th>\n",
       "      <th>Name</th>\n",
       "      <th>Parch</th>\n",
       "      <th>PassengerId</th>\n",
       "      <th>Pclass</th>\n",
       "      <th>Sex</th>\n",
       "      <th>SibSp</th>\n",
       "      <th>Survived</th>\n",
       "      <th>Ticket</th>\n",
       "    </tr>\n",
       "  </thead>\n",
       "  <tbody>\n",
       "    <tr>\n",
       "      <th>391</th>\n",
       "      <td>21.0</td>\n",
       "      <td>NaN</td>\n",
       "      <td>S</td>\n",
       "      <td>7.7958</td>\n",
       "      <td>Jansson, Mr. Carl Olof</td>\n",
       "      <td>0</td>\n",
       "      <td>392</td>\n",
       "      <td>3</td>\n",
       "      <td>male</td>\n",
       "      <td>0</td>\n",
       "      <td>1.0</td>\n",
       "      <td>350034</td>\n",
       "    </tr>\n",
       "    <tr>\n",
       "      <th>974</th>\n",
       "      <td>NaN</td>\n",
       "      <td>NaN</td>\n",
       "      <td>S</td>\n",
       "      <td>7.8958</td>\n",
       "      <td>Demetri, Mr. Marinko</td>\n",
       "      <td>0</td>\n",
       "      <td>975</td>\n",
       "      <td>3</td>\n",
       "      <td>male</td>\n",
       "      <td>0</td>\n",
       "      <td>NaN</td>\n",
       "      <td>349238</td>\n",
       "    </tr>\n",
       "    <tr>\n",
       "      <th>191</th>\n",
       "      <td>19.0</td>\n",
       "      <td>NaN</td>\n",
       "      <td>S</td>\n",
       "      <td>13.0000</td>\n",
       "      <td>Carbines, Mr. William</td>\n",
       "      <td>0</td>\n",
       "      <td>192</td>\n",
       "      <td>2</td>\n",
       "      <td>male</td>\n",
       "      <td>0</td>\n",
       "      <td>0.0</td>\n",
       "      <td>28424</td>\n",
       "    </tr>\n",
       "    <tr>\n",
       "      <th>558</th>\n",
       "      <td>39.0</td>\n",
       "      <td>E67</td>\n",
       "      <td>S</td>\n",
       "      <td>79.6500</td>\n",
       "      <td>Taussig, Mrs. Emil (Tillie Mandelbaum)</td>\n",
       "      <td>1</td>\n",
       "      <td>559</td>\n",
       "      <td>1</td>\n",
       "      <td>female</td>\n",
       "      <td>1</td>\n",
       "      <td>1.0</td>\n",
       "      <td>110413</td>\n",
       "    </tr>\n",
       "    <tr>\n",
       "      <th>387</th>\n",
       "      <td>36.0</td>\n",
       "      <td>NaN</td>\n",
       "      <td>S</td>\n",
       "      <td>13.0000</td>\n",
       "      <td>Buss, Miss. Kate</td>\n",
       "      <td>0</td>\n",
       "      <td>388</td>\n",
       "      <td>2</td>\n",
       "      <td>female</td>\n",
       "      <td>0</td>\n",
       "      <td>1.0</td>\n",
       "      <td>27849</td>\n",
       "    </tr>\n",
       "    <tr>\n",
       "      <th>218</th>\n",
       "      <td>32.0</td>\n",
       "      <td>D15</td>\n",
       "      <td>C</td>\n",
       "      <td>76.2917</td>\n",
       "      <td>Bazzani, Miss. Albina</td>\n",
       "      <td>0</td>\n",
       "      <td>219</td>\n",
       "      <td>1</td>\n",
       "      <td>female</td>\n",
       "      <td>0</td>\n",
       "      <td>1.0</td>\n",
       "      <td>11813</td>\n",
       "    </tr>\n",
       "    <tr>\n",
       "      <th>1257</th>\n",
       "      <td>NaN</td>\n",
       "      <td>NaN</td>\n",
       "      <td>C</td>\n",
       "      <td>14.4583</td>\n",
       "      <td>Caram, Mr. Joseph</td>\n",
       "      <td>0</td>\n",
       "      <td>1258</td>\n",
       "      <td>3</td>\n",
       "      <td>male</td>\n",
       "      <td>1</td>\n",
       "      <td>NaN</td>\n",
       "      <td>2689</td>\n",
       "    </tr>\n",
       "    <tr>\n",
       "      <th>1157</th>\n",
       "      <td>NaN</td>\n",
       "      <td>NaN</td>\n",
       "      <td>S</td>\n",
       "      <td>0.0000</td>\n",
       "      <td>Chisholm, Mr. Roderick Robert Crispin</td>\n",
       "      <td>0</td>\n",
       "      <td>1158</td>\n",
       "      <td>1</td>\n",
       "      <td>male</td>\n",
       "      <td>0</td>\n",
       "      <td>NaN</td>\n",
       "      <td>112051</td>\n",
       "    </tr>\n",
       "    <tr>\n",
       "      <th>1183</th>\n",
       "      <td>NaN</td>\n",
       "      <td>NaN</td>\n",
       "      <td>C</td>\n",
       "      <td>7.2292</td>\n",
       "      <td>Nasr, Mr. Mustafa</td>\n",
       "      <td>0</td>\n",
       "      <td>1184</td>\n",
       "      <td>3</td>\n",
       "      <td>male</td>\n",
       "      <td>0</td>\n",
       "      <td>NaN</td>\n",
       "      <td>2652</td>\n",
       "    </tr>\n",
       "    <tr>\n",
       "      <th>1006</th>\n",
       "      <td>18.0</td>\n",
       "      <td>NaN</td>\n",
       "      <td>C</td>\n",
       "      <td>14.4542</td>\n",
       "      <td>Chronopoulos, Mr. Demetrios</td>\n",
       "      <td>0</td>\n",
       "      <td>1007</td>\n",
       "      <td>3</td>\n",
       "      <td>male</td>\n",
       "      <td>1</td>\n",
       "      <td>NaN</td>\n",
       "      <td>2680</td>\n",
       "    </tr>\n",
       "  </tbody>\n",
       "</table>\n",
       "</div>"
      ],
      "text/plain": [
       "       Age Cabin Embarked     Fare                                    Name  \\\n",
       "391   21.0   NaN        S   7.7958                  Jansson, Mr. Carl Olof   \n",
       "974    NaN   NaN        S   7.8958                    Demetri, Mr. Marinko   \n",
       "191   19.0   NaN        S  13.0000                   Carbines, Mr. William   \n",
       "558   39.0   E67        S  79.6500  Taussig, Mrs. Emil (Tillie Mandelbaum)   \n",
       "387   36.0   NaN        S  13.0000                        Buss, Miss. Kate   \n",
       "218   32.0   D15        C  76.2917                   Bazzani, Miss. Albina   \n",
       "1257   NaN   NaN        C  14.4583                       Caram, Mr. Joseph   \n",
       "1157   NaN   NaN        S   0.0000   Chisholm, Mr. Roderick Robert Crispin   \n",
       "1183   NaN   NaN        C   7.2292                       Nasr, Mr. Mustafa   \n",
       "1006  18.0   NaN        C  14.4542             Chronopoulos, Mr. Demetrios   \n",
       "\n",
       "      Parch  PassengerId  Pclass     Sex  SibSp  Survived  Ticket  \n",
       "391       0          392       3    male      0       1.0  350034  \n",
       "974       0          975       3    male      0       NaN  349238  \n",
       "191       0          192       2    male      0       0.0   28424  \n",
       "558       1          559       1  female      1       1.0  110413  \n",
       "387       0          388       2  female      0       1.0   27849  \n",
       "218       0          219       1  female      0       1.0   11813  \n",
       "1257      0         1258       3    male      1       NaN    2689  \n",
       "1157      0         1158       1    male      0       NaN  112051  \n",
       "1183      0         1184       3    male      0       NaN    2652  \n",
       "1006      0         1007       3    male      1       NaN    2680  "
      ]
     },
     "execution_count": 3,
     "metadata": {},
     "output_type": "execute_result"
    }
   ],
   "source": [
    "df_all.sample(10)"
   ]
  },
  {
   "cell_type": "markdown",
   "metadata": {
    "papermill": {
     "duration": 0.074806,
     "end_time": "2020-11-18T23:36:28.376948",
     "exception": false,
     "start_time": "2020-11-18T23:36:28.302142",
     "status": "completed"
    },
    "tags": []
   },
   "source": [
    "# **Step 3 : Data Cleaning and Exploratory Data Analysis**\n",
    "\n",
    "First of all, we need to preview the dataset and do the 4 C's of data cleaning based on the observations. \n",
    "\n",
    "4 C's of data: Correcting, Completing, Creating and Converting.[](http://)"
   ]
  },
  {
   "cell_type": "markdown",
   "metadata": {
    "papermill": {
     "duration": 0.073687,
     "end_time": "2020-11-18T23:36:28.524023",
     "exception": false,
     "start_time": "2020-11-18T23:36:28.450336",
     "status": "completed"
    },
    "tags": []
   },
   "source": [
    "# Step 3.1 : Correcting \n"
   ]
  },
  {
   "cell_type": "code",
   "execution_count": 4,
   "metadata": {
    "execution": {
     "iopub.execute_input": "2020-11-18T23:36:28.690333Z",
     "iopub.status.busy": "2020-11-18T23:36:28.686853Z",
     "iopub.status.idle": "2020-11-18T23:36:28.694922Z",
     "shell.execute_reply": "2020-11-18T23:36:28.693835Z"
    },
    "papermill": {
     "duration": 0.098258,
     "end_time": "2020-11-18T23:36:28.695096",
     "exception": false,
     "start_time": "2020-11-18T23:36:28.596838",
     "status": "completed"
    },
    "tags": []
   },
   "outputs": [
    {
     "name": "stdout",
     "output_type": "stream",
     "text": [
      "<class 'pandas.core.frame.DataFrame'>\n",
      "RangeIndex: 1309 entries, 0 to 1308\n",
      "Data columns (total 12 columns):\n",
      " #   Column       Non-Null Count  Dtype  \n",
      "---  ------       --------------  -----  \n",
      " 0   Age          1046 non-null   float64\n",
      " 1   Cabin        295 non-null    object \n",
      " 2   Embarked     1307 non-null   object \n",
      " 3   Fare         1308 non-null   float64\n",
      " 4   Name         1309 non-null   object \n",
      " 5   Parch        1309 non-null   int64  \n",
      " 6   PassengerId  1309 non-null   int64  \n",
      " 7   Pclass       1309 non-null   int64  \n",
      " 8   Sex          1309 non-null   object \n",
      " 9   SibSp        1309 non-null   int64  \n",
      " 10  Survived     891 non-null    float64\n",
      " 11  Ticket       1309 non-null   object \n",
      "dtypes: float64(3), int64(4), object(5)\n",
      "memory usage: 122.8+ KB\n",
      "None\n"
     ]
    }
   ],
   "source": [
    "print(df_all.info())"
   ]
  },
  {
   "cell_type": "code",
   "execution_count": 5,
   "metadata": {
    "execution": {
     "iopub.execute_input": "2020-11-18T23:36:28.848915Z",
     "iopub.status.busy": "2020-11-18T23:36:28.848077Z",
     "iopub.status.idle": "2020-11-18T23:36:30.029691Z",
     "shell.execute_reply": "2020-11-18T23:36:30.030792Z"
    },
    "papermill": {
     "duration": 1.261075,
     "end_time": "2020-11-18T23:36:30.031140",
     "exception": false,
     "start_time": "2020-11-18T23:36:28.770065",
     "status": "completed"
    },
    "tags": []
   },
   "outputs": [
    {
     "data": {
      "text/plain": [
       "array([[<matplotlib.axes._subplots.AxesSubplot object at 0x7effc6fb4dd0>,\n",
       "        <matplotlib.axes._subplots.AxesSubplot object at 0x7effbbf74dd0>,\n",
       "        <matplotlib.axes._subplots.AxesSubplot object at 0x7effbbf38490>],\n",
       "       [<matplotlib.axes._subplots.AxesSubplot object at 0x7effbbef0b10>,\n",
       "        <matplotlib.axes._subplots.AxesSubplot object at 0x7effbbeb11d0>,\n",
       "        <matplotlib.axes._subplots.AxesSubplot object at 0x7effbbe66850>],\n",
       "       [<matplotlib.axes._subplots.AxesSubplot object at 0x7effbbe1bf50>,\n",
       "        <matplotlib.axes._subplots.AxesSubplot object at 0x7effbbddc550>,\n",
       "        <matplotlib.axes._subplots.AxesSubplot object at 0x7effbbddc590>]],\n",
       "      dtype=object)"
      ]
     },
     "execution_count": 5,
     "metadata": {},
     "output_type": "execute_result"
    },
    {
     "data": {
      "image/png": "[encoded data removed]",
      "text/plain": [
       "<Figure size 432x288 with 9 Axes>"
      ]
     },
     "metadata": {
      "needs_background": "light"
     },
     "output_type": "display_data"
    }
   ],
   "source": [
    "df_all.hist()"
   ]
  },
  {
   "cell_type": "markdown",
   "metadata": {
    "papermill": {
     "duration": 0.078013,
     "end_time": "2020-11-18T23:36:30.185594",
     "exception": false,
     "start_time": "2020-11-18T23:36:30.107581",
     "status": "completed"
    },
    "tags": []
   },
   "source": [
    "PassengerId is the unique id of the row and it doesn't have any effect on target\n",
    "\n",
    "Survived is the target variable we are trying to predict (0 or 1):\n",
    "1 = Survived\n",
    "0 = Not Survived\n",
    "\n",
    "Pclass (Passenger Class) is the socio-economic status of the passenger and it is a categorical ordinal feature which has 3 unique values (1, 2 or 3):\n",
    "1 = Upper Class\n",
    "2 = Middle Class\n",
    "3 = Lower Class\n",
    "\n",
    "Name, Sex and Age are self-explanatory\n",
    "\n",
    "SibSp is the total number of the passengers' siblings and spouse\n",
    "\n",
    "Parch is the total number of the passengers' parents and children\n",
    "\n",
    "Ticket is the ticket number of the passenger\n",
    "\n",
    "Fare is the passenger fare\n",
    "\n",
    "Cabin is the cabin number of the passenger\n",
    "\n",
    "Embarked is port of embarkation and it is a categorical feature which has 3 unique values (C, Q or S):\n",
    "C = Cherbourg\n",
    "Q = Queenstown\n",
    "S = Southampton\n",
    "\n"
   ]
  },
  {
   "cell_type": "markdown",
   "metadata": {
    "papermill": {
     "duration": 0.074625,
     "end_time": "2020-11-18T23:36:30.342086",
     "exception": false,
     "start_time": "2020-11-18T23:36:30.267461",
     "status": "completed"
    },
    "tags": []
   },
   "source": [
    "After plotting the histogram of each feature and reviewing the entire table of training set and the test set, there does not have any aberrant extremely unreasonable data inputs. Although, there are some potential outliers in age and fare, they are reasonable values, and they are just rare. Just like the tails of normal distributions. Therefore, I do not think it is necessary to correct any existing data."
   ]
  },
  {
   "cell_type": "markdown",
   "metadata": {
    "papermill": {
     "duration": 0.075263,
     "end_time": "2020-11-18T23:36:30.492950",
     "exception": false,
     "start_time": "2020-11-18T23:36:30.417687",
     "status": "completed"
    },
    "tags": []
   },
   "source": [
    "# Step 3.2 : Completing\n",
    "\n",
    "**Step 3.2.1 : missing Values -- Overview**"
   ]
  },
  {
   "cell_type": "code",
   "execution_count": 6,
   "metadata": {
    "execution": {
     "iopub.execute_input": "2020-11-18T23:36:30.657748Z",
     "iopub.status.busy": "2020-11-18T23:36:30.656792Z",
     "iopub.status.idle": "2020-11-18T23:36:30.661337Z",
     "shell.execute_reply": "2020-11-18T23:36:30.660366Z"
    },
    "papermill": {
     "duration": 0.093515,
     "end_time": "2020-11-18T23:36:30.661468",
     "exception": false,
     "start_time": "2020-11-18T23:36:30.567953",
     "status": "completed"
    },
    "tags": []
   },
   "outputs": [
    {
     "name": "stdout",
     "output_type": "stream",
     "text": [
      "<class 'pandas.core.frame.DataFrame'>\n",
      "RangeIndex: 891 entries, 0 to 890\n",
      "Data columns (total 12 columns):\n",
      " #   Column       Non-Null Count  Dtype  \n",
      "---  ------       --------------  -----  \n",
      " 0   PassengerId  891 non-null    int64  \n",
      " 1   Survived     891 non-null    int64  \n",
      " 2   Pclass       891 non-null    int64  \n",
      " 3   Name         891 non-null    object \n",
      " 4   Sex          891 non-null    object \n",
      " 5   Age          714 non-null    float64\n",
      " 6   SibSp        891 non-null    int64  \n",
      " 7   Parch        891 non-null    int64  \n",
      " 8   Ticket       891 non-null    object \n",
      " 9   Fare         891 non-null    float64\n",
      " 10  Cabin        204 non-null    object \n",
      " 11  Embarked     889 non-null    object \n",
      "dtypes: float64(2), int64(5), object(5)\n",
      "memory usage: 83.7+ KB\n",
      "None\n"
     ]
    }
   ],
   "source": [
    "print(df_train.info())"
   ]
  },
  {
   "cell_type": "code",
   "execution_count": 7,
   "metadata": {
    "execution": {
     "iopub.execute_input": "2020-11-18T23:36:30.825654Z",
     "iopub.status.busy": "2020-11-18T23:36:30.824726Z",
     "iopub.status.idle": "2020-11-18T23:36:30.829006Z",
     "shell.execute_reply": "2020-11-18T23:36:30.828250Z"
    },
    "papermill": {
     "duration": 0.09211,
     "end_time": "2020-11-18T23:36:30.829132",
     "exception": false,
     "start_time": "2020-11-18T23:36:30.737022",
     "status": "completed"
    },
    "tags": []
   },
   "outputs": [
    {
     "name": "stdout",
     "output_type": "stream",
     "text": [
      "<class 'pandas.core.frame.DataFrame'>\n",
      "RangeIndex: 418 entries, 0 to 417\n",
      "Data columns (total 11 columns):\n",
      " #   Column       Non-Null Count  Dtype  \n",
      "---  ------       --------------  -----  \n",
      " 0   PassengerId  418 non-null    int64  \n",
      " 1   Pclass       418 non-null    int64  \n",
      " 2   Name         418 non-null    object \n",
      " 3   Sex          418 non-null    object \n",
      " 4   Age          332 non-null    float64\n",
      " 5   SibSp        418 non-null    int64  \n",
      " 6   Parch        418 non-null    int64  \n",
      " 7   Ticket       418 non-null    object \n",
      " 8   Fare         417 non-null    float64\n",
      " 9   Cabin        91 non-null     object \n",
      " 10  Embarked     418 non-null    object \n",
      "dtypes: float64(2), int64(4), object(5)\n",
      "memory usage: 36.0+ KB\n",
      "None\n"
     ]
    }
   ],
   "source": [
    "print(df_test.info())"
   ]
  },
  {
   "cell_type": "markdown",
   "metadata": {
    "papermill": {
     "duration": 0.075773,
     "end_time": "2020-11-18T23:36:30.983186",
     "exception": false,
     "start_time": "2020-11-18T23:36:30.907413",
     "status": "completed"
    },
    "tags": []
   },
   "source": [
    "As you can see from above output that some features have lots of missing value. Let's have a detailed look. \n",
    "\n",
    "First, the output below describes the missing value in the train set. "
   ]
  },
  {
   "cell_type": "code",
   "execution_count": 8,
   "metadata": {
    "execution": {
     "iopub.execute_input": "2020-11-18T23:36:31.156518Z",
     "iopub.status.busy": "2020-11-18T23:36:31.151479Z",
     "iopub.status.idle": "2020-11-18T23:36:31.193251Z",
     "shell.execute_reply": "2020-11-18T23:36:31.192419Z"
    },
    "papermill": {
     "duration": 0.130341,
     "end_time": "2020-11-18T23:36:31.193416",
     "exception": false,
     "start_time": "2020-11-18T23:36:31.063075",
     "status": "completed"
    },
    "tags": []
   },
   "outputs": [
    {
     "name": "stdout",
     "output_type": "stream",
     "text": [
      "Cabin          687\n",
      "Age            177\n",
      "Embarked         2\n",
      "Fare             0\n",
      "Ticket           0\n",
      "Parch            0\n",
      "SibSp            0\n",
      "Sex              0\n",
      "Name             0\n",
      "Pclass           0\n",
      "Survived         0\n",
      "PassengerId      0\n",
      "dtype: int64\n"
     ]
    },
    {
     "data": {
      "text/html": [
       "<div>\n",
       "<style scoped>\n",
       "    .dataframe tbody tr th:only-of-type {\n",
       "        vertical-align: middle;\n",
       "    }\n",
       "\n",
       "    .dataframe tbody tr th {\n",
       "        vertical-align: top;\n",
       "    }\n",
       "\n",
       "    .dataframe thead th {\n",
       "        text-align: right;\n",
       "    }\n",
       "</style>\n",
       "<table border=\"1\" class=\"dataframe\">\n",
       "  <thead>\n",
       "    <tr style=\"text-align: right;\">\n",
       "      <th></th>\n",
       "      <th>Total</th>\n",
       "      <th>%</th>\n",
       "    </tr>\n",
       "  </thead>\n",
       "  <tbody>\n",
       "    <tr>\n",
       "      <th>Cabin</th>\n",
       "      <td>687</td>\n",
       "      <td>77.104377</td>\n",
       "    </tr>\n",
       "    <tr>\n",
       "      <th>Age</th>\n",
       "      <td>177</td>\n",
       "      <td>19.865320</td>\n",
       "    </tr>\n",
       "    <tr>\n",
       "      <th>Embarked</th>\n",
       "      <td>2</td>\n",
       "      <td>0.224467</td>\n",
       "    </tr>\n",
       "    <tr>\n",
       "      <th>Fare</th>\n",
       "      <td>0</td>\n",
       "      <td>0.000000</td>\n",
       "    </tr>\n",
       "    <tr>\n",
       "      <th>Ticket</th>\n",
       "      <td>0</td>\n",
       "      <td>0.000000</td>\n",
       "    </tr>\n",
       "  </tbody>\n",
       "</table>\n",
       "</div>"
      ],
      "text/plain": [
       "          Total          %\n",
       "Cabin       687  77.104377\n",
       "Age         177  19.865320\n",
       "Embarked      2   0.224467\n",
       "Fare          0   0.000000\n",
       "Ticket        0   0.000000"
      ]
     },
     "execution_count": 8,
     "metadata": {},
     "output_type": "execute_result"
    }
   ],
   "source": [
    "# Counting the total missing values in respective features\n",
    "total_missing_train = df_train.isnull().sum().sort_values(ascending=False)\n",
    "\n",
    "# Calculating the percent of missing values in respective features\n",
    "percent_1 = df_train.isnull().sum()/df_train.isnull().count()*100\n",
    "\n",
    "\n",
    "#w3resource.com/pandas/concat.php\n",
    "train_missing_data = pd.concat([total_missing_train, percent_1], axis=1, keys=['Total', '%'])\n",
    "\n",
    "print(total_missing_train)\n",
    "\n",
    "train_missing_data.head() "
   ]
  },
  {
   "cell_type": "markdown",
   "metadata": {
    "papermill": {
     "duration": 0.076678,
     "end_time": "2020-11-18T23:36:31.347443",
     "exception": false,
     "start_time": "2020-11-18T23:36:31.270765",
     "status": "completed"
    },
    "tags": []
   },
   "source": [
    "Let's check the missing values in the test set as well. "
   ]
  },
  {
   "cell_type": "code",
   "execution_count": 9,
   "metadata": {
    "execution": {
     "iopub.execute_input": "2020-11-18T23:36:31.523021Z",
     "iopub.status.busy": "2020-11-18T23:36:31.522040Z",
     "iopub.status.idle": "2020-11-18T23:36:31.528427Z",
     "shell.execute_reply": "2020-11-18T23:36:31.527647Z"
    },
    "papermill": {
     "duration": 0.10356,
     "end_time": "2020-11-18T23:36:31.528591",
     "exception": false,
     "start_time": "2020-11-18T23:36:31.425031",
     "status": "completed"
    },
    "tags": []
   },
   "outputs": [
    {
     "name": "stdout",
     "output_type": "stream",
     "text": [
      "Cabin          327\n",
      "Age             86\n",
      "Fare             1\n",
      "Embarked         0\n",
      "Ticket           0\n",
      "Parch            0\n",
      "SibSp            0\n",
      "Sex              0\n",
      "Name             0\n",
      "Pclass           0\n",
      "PassengerId      0\n",
      "dtype: int64\n"
     ]
    },
    {
     "data": {
      "text/html": [
       "<div>\n",
       "<style scoped>\n",
       "    .dataframe tbody tr th:only-of-type {\n",
       "        vertical-align: middle;\n",
       "    }\n",
       "\n",
       "    .dataframe tbody tr th {\n",
       "        vertical-align: top;\n",
       "    }\n",
       "\n",
       "    .dataframe thead th {\n",
       "        text-align: right;\n",
       "    }\n",
       "</style>\n",
       "<table border=\"1\" class=\"dataframe\">\n",
       "  <thead>\n",
       "    <tr style=\"text-align: right;\">\n",
       "      <th></th>\n",
       "      <th>Total</th>\n",
       "      <th>%</th>\n",
       "    </tr>\n",
       "  </thead>\n",
       "  <tbody>\n",
       "    <tr>\n",
       "      <th>Cabin</th>\n",
       "      <td>327</td>\n",
       "      <td>78.229665</td>\n",
       "    </tr>\n",
       "    <tr>\n",
       "      <th>Age</th>\n",
       "      <td>86</td>\n",
       "      <td>20.574163</td>\n",
       "    </tr>\n",
       "    <tr>\n",
       "      <th>Fare</th>\n",
       "      <td>1</td>\n",
       "      <td>0.239234</td>\n",
       "    </tr>\n",
       "    <tr>\n",
       "      <th>Embarked</th>\n",
       "      <td>0</td>\n",
       "      <td>0.000000</td>\n",
       "    </tr>\n",
       "    <tr>\n",
       "      <th>Ticket</th>\n",
       "      <td>0</td>\n",
       "      <td>0.000000</td>\n",
       "    </tr>\n",
       "  </tbody>\n",
       "</table>\n",
       "</div>"
      ],
      "text/plain": [
       "          Total          %\n",
       "Cabin       327  78.229665\n",
       "Age          86  20.574163\n",
       "Fare          1   0.239234\n",
       "Embarked      0   0.000000\n",
       "Ticket        0   0.000000"
      ]
     },
     "execution_count": 9,
     "metadata": {},
     "output_type": "execute_result"
    }
   ],
   "source": [
    "total_missing_test = df_test.isnull().sum().sort_values(ascending=False)\n",
    "\n",
    "percent_2 = df_test.isnull().sum()/df_test.isnull().count()*100\n",
    "\n",
    "test_missing_data = pd.concat([total_missing_test, percent_2], axis=1, keys=['Total', '%']) \n",
    "\n",
    "print(total_missing_test)\n",
    "\n",
    "test_missing_data.head()"
   ]
  },
  {
   "cell_type": "markdown",
   "metadata": {
    "papermill": {
     "duration": 0.077841,
     "end_time": "2020-11-18T23:36:31.685342",
     "exception": false,
     "start_time": "2020-11-18T23:36:31.607501",
     "status": "completed"
    },
    "tags": []
   },
   "source": [
    "As seen from above, both training set and test set have lots of missing values in Age and Cabin. Roughly 78% of Cabin is missing and 20% of Age is missing. And missing values in Fare and Embarked can be ignored since the percentages are almost 0.\n",
    "\n",
    "Missing values in Age can be filled with descriptive statistical measures but that wouldn't work for Cabin. Because the data type of Cabin is object instead of float, the missing value of Cabin cannot be filled with median or mean which is not applicable for Cabin."
   ]
  },
  {
   "cell_type": "markdown",
   "metadata": {
    "papermill": {
     "duration": 0.07787,
     "end_time": "2020-11-18T23:36:31.841453",
     "exception": false,
     "start_time": "2020-11-18T23:36:31.763583",
     "status": "completed"
    },
    "tags": []
   },
   "source": [
    "**Step 3.2.2 : missing Values -- Age**"
   ]
  },
  {
   "cell_type": "code",
   "execution_count": 10,
   "metadata": {
    "execution": {
     "iopub.execute_input": "2020-11-18T23:36:32.016219Z",
     "iopub.status.busy": "2020-11-18T23:36:32.013409Z",
     "iopub.status.idle": "2020-11-18T23:36:32.217340Z",
     "shell.execute_reply": "2020-11-18T23:36:32.216565Z"
    },
    "papermill": {
     "duration": 0.296359,
     "end_time": "2020-11-18T23:36:32.217490",
     "exception": false,
     "start_time": "2020-11-18T23:36:31.921131",
     "status": "completed"
    },
    "tags": []
   },
   "outputs": [
    {
     "data": {
      "text/plain": [
       "<matplotlib.axes._subplots.AxesSubplot at 0x7effbbb12110>"
      ]
     },
     "execution_count": 10,
     "metadata": {},
     "output_type": "execute_result"
    },
    {
     "data": {
      "image/png": "[encoded data removed]",
      "text/plain": [
       "<Figure size 432x288 with 1 Axes>"
      ]
     },
     "metadata": {
      "needs_background": "light"
     },
     "output_type": "display_data"
    }
   ],
   "source": [
    "df_all[\"Age\"].hist()"
   ]
  },
  {
   "cell_type": "markdown",
   "metadata": {
    "papermill": {
     "duration": 0.080267,
     "end_time": "2020-11-18T23:36:32.377333",
     "exception": false,
     "start_time": "2020-11-18T23:36:32.297066",
     "status": "completed"
    },
    "tags": []
   },
   "source": [
    "Here as we can see in the histogram of Age that there is no significant outliers so that both median or mean would work to replace the missing values in Age. I would like to use mean within each small group to replace the missing value, and to be as specific as possible, the small group here means a group of people who have same gender and Pclass. The mean ages below are used to fill the missing values in Age."
   ]
  },
  {
   "cell_type": "code",
   "execution_count": 11,
   "metadata": {
    "execution": {
     "iopub.execute_input": "2020-11-18T23:36:32.550594Z",
     "iopub.status.busy": "2020-11-18T23:36:32.549640Z",
     "iopub.status.idle": "2020-11-18T23:36:32.580292Z",
     "shell.execute_reply": "2020-11-18T23:36:32.581033Z"
    },
    "papermill": {
     "duration": 0.123352,
     "end_time": "2020-11-18T23:36:32.581236",
     "exception": false,
     "start_time": "2020-11-18T23:36:32.457884",
     "status": "completed"
    },
    "tags": []
   },
   "outputs": [
    {
     "name": "stdout",
     "output_type": "stream",
     "text": [
      "Mean age of Pclass 1 females: 37 \n",
      "Mean age of Pclass 1 males: 41 \n",
      "Mean age of Pclass 2 females: 27 \n",
      "Mean age of Pclass 2 males: 30 \n",
      "Mean age of Pclass 3 females: 22 \n",
      "Mean age of Pclass 3 males: 25 \n"
     ]
    }
   ],
   "source": [
    "age_by_pclass_sex = df_all.groupby(['Sex', 'Pclass']).mean()['Age']\n",
    "\n",
    "for pclass in range(1, 4):\n",
    "    for sex in ['female', 'male']:\n",
    "        print('Mean age of Pclass {} {}s: {} '.format(pclass, sex, age_by_pclass_sex[sex][pclass].astype(int)))\n",
    "\n",
    "# Filling the missing values in Age with the mean of Sex and Pclass groups\n",
    "df_all['Age'] = df_all.groupby(['Sex', 'Pclass'])['Age'].apply(lambda x: x.fillna(x.mean()))\n",
    "df_train['Age'] = df_all.groupby(['Sex', 'Pclass'])['Age'].apply(lambda x: x.fillna(x.mean()))\n",
    "df_test['Age'] = df_all.groupby(['Sex', 'Pclass'])['Age'].apply(lambda x: x.fillna(x.mean()))"
   ]
  },
  {
   "cell_type": "markdown",
   "metadata": {
    "papermill": {
     "duration": 0.08003,
     "end_time": "2020-11-18T23:36:32.742260",
     "exception": false,
     "start_time": "2020-11-18T23:36:32.662230",
     "status": "completed"
    },
    "tags": []
   },
   "source": [
    "**Step 3.2.3 : missing Values -- Embarked**"
   ]
  },
  {
   "cell_type": "code",
   "execution_count": 12,
   "metadata": {
    "execution": {
     "iopub.execute_input": "2020-11-18T23:36:32.924876Z",
     "iopub.status.busy": "2020-11-18T23:36:32.924004Z",
     "iopub.status.idle": "2020-11-18T23:36:32.928716Z",
     "shell.execute_reply": "2020-11-18T23:36:32.928165Z"
    },
    "papermill": {
     "duration": 0.105268,
     "end_time": "2020-11-18T23:36:32.928896",
     "exception": false,
     "start_time": "2020-11-18T23:36:32.823628",
     "status": "completed"
    },
    "tags": []
   },
   "outputs": [
    {
     "data": {
      "text/html": [
       "<div>\n",
       "<style scoped>\n",
       "    .dataframe tbody tr th:only-of-type {\n",
       "        vertical-align: middle;\n",
       "    }\n",
       "\n",
       "    .dataframe tbody tr th {\n",
       "        vertical-align: top;\n",
       "    }\n",
       "\n",
       "    .dataframe thead th {\n",
       "        text-align: right;\n",
       "    }\n",
       "</style>\n",
       "<table border=\"1\" class=\"dataframe\">\n",
       "  <thead>\n",
       "    <tr style=\"text-align: right;\">\n",
       "      <th></th>\n",
       "      <th>Age</th>\n",
       "      <th>Cabin</th>\n",
       "      <th>Embarked</th>\n",
       "      <th>Fare</th>\n",
       "      <th>Name</th>\n",
       "      <th>Parch</th>\n",
       "      <th>PassengerId</th>\n",
       "      <th>Pclass</th>\n",
       "      <th>Sex</th>\n",
       "      <th>SibSp</th>\n",
       "      <th>Survived</th>\n",
       "      <th>Ticket</th>\n",
       "    </tr>\n",
       "  </thead>\n",
       "  <tbody>\n",
       "    <tr>\n",
       "      <th>61</th>\n",
       "      <td>38.0</td>\n",
       "      <td>B28</td>\n",
       "      <td>NaN</td>\n",
       "      <td>80.0</td>\n",
       "      <td>Icard, Miss. Amelie</td>\n",
       "      <td>0</td>\n",
       "      <td>62</td>\n",
       "      <td>1</td>\n",
       "      <td>female</td>\n",
       "      <td>0</td>\n",
       "      <td>1.0</td>\n",
       "      <td>113572</td>\n",
       "    </tr>\n",
       "    <tr>\n",
       "      <th>829</th>\n",
       "      <td>62.0</td>\n",
       "      <td>B28</td>\n",
       "      <td>NaN</td>\n",
       "      <td>80.0</td>\n",
       "      <td>Stone, Mrs. George Nelson (Martha Evelyn)</td>\n",
       "      <td>0</td>\n",
       "      <td>830</td>\n",
       "      <td>1</td>\n",
       "      <td>female</td>\n",
       "      <td>0</td>\n",
       "      <td>1.0</td>\n",
       "      <td>113572</td>\n",
       "    </tr>\n",
       "  </tbody>\n",
       "</table>\n",
       "</div>"
      ],
      "text/plain": [
       "      Age Cabin Embarked  Fare                                       Name  \\\n",
       "61   38.0   B28      NaN  80.0                        Icard, Miss. Amelie   \n",
       "829  62.0   B28      NaN  80.0  Stone, Mrs. George Nelson (Martha Evelyn)   \n",
       "\n",
       "     Parch  PassengerId  Pclass     Sex  SibSp  Survived  Ticket  \n",
       "61       0           62       1  female      0       1.0  113572  \n",
       "829      0          830       1  female      0       1.0  113572  "
      ]
     },
     "execution_count": 12,
     "metadata": {},
     "output_type": "execute_result"
    }
   ],
   "source": [
    "df_all[df_all['Embarked'].isnull()]"
   ]
  },
  {
   "cell_type": "markdown",
   "metadata": {
    "papermill": {
     "duration": 0.082918,
     "end_time": "2020-11-18T23:36:33.093108",
     "exception": false,
     "start_time": "2020-11-18T23:36:33.010190",
     "status": "completed"
    },
    "tags": []
   },
   "source": [
    "Embarked is a categorical feature and there are only 2 missing values in whole data set. Both of those passengers are female, upper class and they have the same ticket number, fare and cabin. This is an evidence that they traveled together. \n",
    "\n",
    "When I googled Stone, Mrs. George Nelson (Martha Evelyn), I found that she embarked from S (Southampton) with her maid Amelie Icard, in this page [Martha Evelyn Stone: Titanic Survivor](http://www.encyclopedia-titanica.org/titanic-survivor/martha-evelyn-stone.html). Therefore, we can fill the missing values of Embarked with category S confidently."
   ]
  },
  {
   "cell_type": "code",
   "execution_count": 13,
   "metadata": {
    "execution": {
     "iopub.execute_input": "2020-11-18T23:36:33.263599Z",
     "iopub.status.busy": "2020-11-18T23:36:33.262763Z",
     "iopub.status.idle": "2020-11-18T23:36:33.266314Z",
     "shell.execute_reply": "2020-11-18T23:36:33.265608Z"
    },
    "papermill": {
     "duration": 0.091969,
     "end_time": "2020-11-18T23:36:33.266436",
     "exception": false,
     "start_time": "2020-11-18T23:36:33.174467",
     "status": "completed"
    },
    "tags": []
   },
   "outputs": [],
   "source": [
    "# Filling the missing values in Embarked with S\n",
    "df_all['Embarked'] = df_all['Embarked'].fillna('S')\n",
    "df_train['Embarked'] = df_train['Embarked'].fillna('S')"
   ]
  },
  {
   "cell_type": "markdown",
   "metadata": {
    "papermill": {
     "duration": 0.082309,
     "end_time": "2020-11-18T23:36:33.431181",
     "exception": false,
     "start_time": "2020-11-18T23:36:33.348872",
     "status": "completed"
    },
    "tags": []
   },
   "source": [
    "**Step 3.2.4 : missing Values -- Fare**"
   ]
  },
  {
   "cell_type": "code",
   "execution_count": 14,
   "metadata": {
    "execution": {
     "iopub.execute_input": "2020-11-18T23:36:33.611428Z",
     "iopub.status.busy": "2020-11-18T23:36:33.610311Z",
     "iopub.status.idle": "2020-11-18T23:36:33.614622Z",
     "shell.execute_reply": "2020-11-18T23:36:33.614016Z"
    },
    "papermill": {
     "duration": 0.102199,
     "end_time": "2020-11-18T23:36:33.614748",
     "exception": false,
     "start_time": "2020-11-18T23:36:33.512549",
     "status": "completed"
    },
    "tags": []
   },
   "outputs": [
    {
     "data": {
      "text/html": [
       "<div>\n",
       "<style scoped>\n",
       "    .dataframe tbody tr th:only-of-type {\n",
       "        vertical-align: middle;\n",
       "    }\n",
       "\n",
       "    .dataframe tbody tr th {\n",
       "        vertical-align: top;\n",
       "    }\n",
       "\n",
       "    .dataframe thead th {\n",
       "        text-align: right;\n",
       "    }\n",
       "</style>\n",
       "<table border=\"1\" class=\"dataframe\">\n",
       "  <thead>\n",
       "    <tr style=\"text-align: right;\">\n",
       "      <th></th>\n",
       "      <th>Age</th>\n",
       "      <th>Cabin</th>\n",
       "      <th>Embarked</th>\n",
       "      <th>Fare</th>\n",
       "      <th>Name</th>\n",
       "      <th>Parch</th>\n",
       "      <th>PassengerId</th>\n",
       "      <th>Pclass</th>\n",
       "      <th>Sex</th>\n",
       "      <th>SibSp</th>\n",
       "      <th>Survived</th>\n",
       "      <th>Ticket</th>\n",
       "    </tr>\n",
       "  </thead>\n",
       "  <tbody>\n",
       "    <tr>\n",
       "      <th>1043</th>\n",
       "      <td>60.5</td>\n",
       "      <td>NaN</td>\n",
       "      <td>S</td>\n",
       "      <td>NaN</td>\n",
       "      <td>Storey, Mr. Thomas</td>\n",
       "      <td>0</td>\n",
       "      <td>1044</td>\n",
       "      <td>3</td>\n",
       "      <td>male</td>\n",
       "      <td>0</td>\n",
       "      <td>NaN</td>\n",
       "      <td>3701</td>\n",
       "    </tr>\n",
       "  </tbody>\n",
       "</table>\n",
       "</div>"
      ],
      "text/plain": [
       "       Age Cabin Embarked  Fare                Name  Parch  PassengerId  \\\n",
       "1043  60.5   NaN        S   NaN  Storey, Mr. Thomas      0         1044   \n",
       "\n",
       "      Pclass   Sex  SibSp  Survived Ticket  \n",
       "1043       3  male      0       NaN   3701  "
      ]
     },
     "execution_count": 14,
     "metadata": {},
     "output_type": "execute_result"
    }
   ],
   "source": [
    "df_all[df_all['Fare'].isnull()]"
   ]
  },
  {
   "cell_type": "code",
   "execution_count": 15,
   "metadata": {
    "execution": {
     "iopub.execute_input": "2020-11-18T23:36:33.795463Z",
     "iopub.status.busy": "2020-11-18T23:36:33.793008Z",
     "iopub.status.idle": "2020-11-18T23:36:33.966545Z",
     "shell.execute_reply": "2020-11-18T23:36:33.965905Z"
    },
    "papermill": {
     "duration": 0.269054,
     "end_time": "2020-11-18T23:36:33.966676",
     "exception": false,
     "start_time": "2020-11-18T23:36:33.697622",
     "status": "completed"
    },
    "tags": []
   },
   "outputs": [
    {
     "data": {
      "text/plain": [
       "<matplotlib.axes._subplots.AxesSubplot at 0x7effb9ac8c90>"
      ]
     },
     "execution_count": 15,
     "metadata": {},
     "output_type": "execute_result"
    },
    {
     "data": {
      "image/png": "[encoded data removed]",
      "text/plain": [
       "<Figure size 432x288 with 1 Axes>"
      ]
     },
     "metadata": {
      "needs_background": "light"
     },
     "output_type": "display_data"
    }
   ],
   "source": [
    "df_all[\"Parch\"].hist()"
   ]
  },
  {
   "cell_type": "code",
   "execution_count": 16,
   "metadata": {
    "execution": {
     "iopub.execute_input": "2020-11-18T23:36:34.151217Z",
     "iopub.status.busy": "2020-11-18T23:36:34.150063Z",
     "iopub.status.idle": "2020-11-18T23:36:34.335890Z",
     "shell.execute_reply": "2020-11-18T23:36:34.335106Z"
    },
    "papermill": {
     "duration": 0.281239,
     "end_time": "2020-11-18T23:36:34.336015",
     "exception": false,
     "start_time": "2020-11-18T23:36:34.054776",
     "status": "completed"
    },
    "tags": []
   },
   "outputs": [
    {
     "data": {
      "text/plain": [
       "<matplotlib.axes._subplots.AxesSubplot at 0x7effb9a2bed0>"
      ]
     },
     "execution_count": 16,
     "metadata": {},
     "output_type": "execute_result"
    },
    {
     "data": {
      "image/png": "[encoded data removed]",
      "text/plain": [
       "<Figure size 432x288 with 1 Axes>"
      ]
     },
     "metadata": {
      "needs_background": "light"
     },
     "output_type": "display_data"
    }
   ],
   "source": [
    "df_all[\"SibSp\"].hist()"
   ]
  },
  {
   "cell_type": "markdown",
   "metadata": {
    "papermill": {
     "duration": 0.084099,
     "end_time": "2020-11-18T23:36:34.506607",
     "exception": false,
     "start_time": "2020-11-18T23:36:34.422508",
     "status": "completed"
    },
    "tags": []
   },
   "source": [
    "There is only one passenger with missing Fare value. With common sense, We know that fare is related to family size (Parch and SibSp) and Pclass features. From the histogram of Parch and SibSp, there is no outliers and all data points seems reasonable, and Pclass is a not-Null category variable without missing values. Therefore, Average(mean) of fare value of a male with a third class ticket and single (no Parch or SibSp) is a logical choice to fill the missing value."
   ]
  },
  {
   "cell_type": "code",
   "execution_count": 17,
   "metadata": {
    "execution": {
     "iopub.execute_input": "2020-11-18T23:36:34.737859Z",
     "iopub.status.busy": "2020-11-18T23:36:34.736575Z",
     "iopub.status.idle": "2020-11-18T23:36:34.748536Z",
     "shell.execute_reply": "2020-11-18T23:36:34.747439Z"
    },
    "papermill": {
     "duration": 0.106876,
     "end_time": "2020-11-18T23:36:34.748735",
     "exception": false,
     "start_time": "2020-11-18T23:36:34.641859",
     "status": "completed"
    },
    "tags": []
   },
   "outputs": [],
   "source": [
    "mean_fare = df_all.groupby(['Pclass', 'Parch', 'SibSp'])['Fare'].mean()[3][0][0]\n",
    "# Mean of a Fare who is male with a third class ticket and travling alone) \n",
    "\n",
    "# Filling the missing value in Fare with the mean fare we get above.\n",
    "df_all['Fare'] = df_all['Fare'].fillna(mean_fare)\n",
    "df_test['Fare'] = df_test['Fare'].fillna(mean_fare)"
   ]
  },
  {
   "cell_type": "markdown",
   "metadata": {
    "papermill": {
     "duration": 0.084144,
     "end_time": "2020-11-18T23:36:34.918175",
     "exception": false,
     "start_time": "2020-11-18T23:36:34.834031",
     "status": "completed"
    },
    "tags": []
   },
   "source": [
    "**Step 3.2.5 : missing Values -- Cabin**"
   ]
  },
  {
   "cell_type": "markdown",
   "metadata": {
    "papermill": {
     "duration": 0.085249,
     "end_time": "2020-11-18T23:36:35.087408",
     "exception": false,
     "start_time": "2020-11-18T23:36:35.002159",
     "status": "completed"
    },
    "tags": []
   },
   "source": [
    "Almost 78% of the Cabin feature is missing and after google the background info,I found that the first letter of the Cabin values are the decks in which the cabins are located. Those decks were separated by passenger class, but some of them were used by multiple passenger classes.\n",
    "\n",
    "On the Boat Deck there were 6 rooms labeled as T, U, W, X, Y, Z but only the T cabin is present in the dataset\n",
    "A, B and C decks were only for 1st class passengers\n",
    "D and E decks were for all classes\n",
    "F and G decks were for both 2nd and 3rd class passengers\n",
    "\n",
    "Let's have a close look at each deck. "
   ]
  },
  {
   "cell_type": "code",
   "execution_count": 18,
   "metadata": {
    "execution": {
     "iopub.execute_input": "2020-11-18T23:36:35.269082Z",
     "iopub.status.busy": "2020-11-18T23:36:35.268223Z",
     "iopub.status.idle": "2020-11-18T23:36:35.285378Z",
     "shell.execute_reply": "2020-11-18T23:36:35.284733Z"
    },
    "papermill": {
     "duration": 0.114063,
     "end_time": "2020-11-18T23:36:35.285498",
     "exception": false,
     "start_time": "2020-11-18T23:36:35.171435",
     "status": "completed"
    },
    "tags": []
   },
   "outputs": [
    {
     "data": {
      "text/html": [
       "<div>\n",
       "<style scoped>\n",
       "    .dataframe tbody tr th:only-of-type {\n",
       "        vertical-align: middle;\n",
       "    }\n",
       "\n",
       "    .dataframe tbody tr th {\n",
       "        vertical-align: top;\n",
       "    }\n",
       "\n",
       "    .dataframe thead th {\n",
       "        text-align: right;\n",
       "    }\n",
       "</style>\n",
       "<table border=\"1\" class=\"dataframe\">\n",
       "  <thead>\n",
       "    <tr style=\"text-align: right;\">\n",
       "      <th></th>\n",
       "      <th></th>\n",
       "      <th>Count</th>\n",
       "    </tr>\n",
       "    <tr>\n",
       "      <th>Deck</th>\n",
       "      <th>Pclass</th>\n",
       "      <th></th>\n",
       "    </tr>\n",
       "  </thead>\n",
       "  <tbody>\n",
       "    <tr>\n",
       "      <th>A</th>\n",
       "      <th>1</th>\n",
       "      <td>22</td>\n",
       "    </tr>\n",
       "    <tr>\n",
       "      <th>B</th>\n",
       "      <th>1</th>\n",
       "      <td>65</td>\n",
       "    </tr>\n",
       "    <tr>\n",
       "      <th>C</th>\n",
       "      <th>1</th>\n",
       "      <td>94</td>\n",
       "    </tr>\n",
       "    <tr>\n",
       "      <th rowspan=\"2\" valign=\"top\">D</th>\n",
       "      <th>1</th>\n",
       "      <td>40</td>\n",
       "    </tr>\n",
       "    <tr>\n",
       "      <th>2</th>\n",
       "      <td>6</td>\n",
       "    </tr>\n",
       "    <tr>\n",
       "      <th rowspan=\"3\" valign=\"top\">E</th>\n",
       "      <th>1</th>\n",
       "      <td>34</td>\n",
       "    </tr>\n",
       "    <tr>\n",
       "      <th>2</th>\n",
       "      <td>4</td>\n",
       "    </tr>\n",
       "    <tr>\n",
       "      <th>3</th>\n",
       "      <td>3</td>\n",
       "    </tr>\n",
       "    <tr>\n",
       "      <th rowspan=\"2\" valign=\"top\">F</th>\n",
       "      <th>2</th>\n",
       "      <td>13</td>\n",
       "    </tr>\n",
       "    <tr>\n",
       "      <th>3</th>\n",
       "      <td>8</td>\n",
       "    </tr>\n",
       "    <tr>\n",
       "      <th>G</th>\n",
       "      <th>3</th>\n",
       "      <td>5</td>\n",
       "    </tr>\n",
       "    <tr>\n",
       "      <th rowspan=\"3\" valign=\"top\">M</th>\n",
       "      <th>1</th>\n",
       "      <td>67</td>\n",
       "    </tr>\n",
       "    <tr>\n",
       "      <th>2</th>\n",
       "      <td>254</td>\n",
       "    </tr>\n",
       "    <tr>\n",
       "      <th>3</th>\n",
       "      <td>693</td>\n",
       "    </tr>\n",
       "    <tr>\n",
       "      <th>T</th>\n",
       "      <th>1</th>\n",
       "      <td>1</td>\n",
       "    </tr>\n",
       "  </tbody>\n",
       "</table>\n",
       "</div>"
      ],
      "text/plain": [
       "             Count\n",
       "Deck Pclass       \n",
       "A    1          22\n",
       "B    1          65\n",
       "C    1          94\n",
       "D    1          40\n",
       "     2           6\n",
       "E    1          34\n",
       "     2           4\n",
       "     3           3\n",
       "F    2          13\n",
       "     3           8\n",
       "G    3           5\n",
       "M    1          67\n",
       "     2         254\n",
       "     3         693\n",
       "T    1           1"
      ]
     },
     "execution_count": 18,
     "metadata": {},
     "output_type": "execute_result"
    }
   ],
   "source": [
    "# Creating Deck column by extracting the first letter of the Cabin(string s) column M stands for Missing\n",
    "df_all['Deck'] = df_all['Cabin'].apply(lambda s: s[0] if pd.notnull(s) else 'M')\n",
    "\n",
    "\n",
    "df_all_decks = df_all.groupby(['Deck', 'Pclass']).count().drop(columns=['Survived', 'Sex', 'Age', 'SibSp', 'Parch', \n",
    "                                                                        'Fare', 'Embarked', 'Cabin', 'PassengerId', \n",
    "                                                                        'Ticket']).rename(columns={'Name': 'Count'})\n",
    "\n",
    "df_all_decks\n"
   ]
  },
  {
   "cell_type": "markdown",
   "metadata": {
    "papermill": {
     "duration": 0.085665,
     "end_time": "2020-11-18T23:36:35.457036",
     "exception": false,
     "start_time": "2020-11-18T23:36:35.371371",
     "status": "completed"
    },
    "tags": []
   },
   "source": [
    "From background info we know that decks are divided by Pclass and we can see from the table above that most of missing values of Cabin are from 2nd and 3rd class. So Cabin might be a helpful feature to predict if someone from 1st class survived or not, but it is not very helpful to predict someone from 2nd or 3rd class. In this way, the feature Cabin is kind of \"biased\" when running the prediction. And since Deck and Cabin is extreme highly related to Pclass, we can just drop the feature Cabin and use Pclass as one of the features to predict since Pclass has no missing value."
   ]
  },
  {
   "cell_type": "code",
   "execution_count": 19,
   "metadata": {
    "execution": {
     "iopub.execute_input": "2020-11-18T23:36:35.659791Z",
     "iopub.status.busy": "2020-11-18T23:36:35.658677Z",
     "iopub.status.idle": "2020-11-18T23:36:35.663487Z",
     "shell.execute_reply": "2020-11-18T23:36:35.662756Z"
    },
    "papermill": {
     "duration": 0.121441,
     "end_time": "2020-11-18T23:36:35.663611",
     "exception": false,
     "start_time": "2020-11-18T23:36:35.542170",
     "status": "completed"
    },
    "tags": []
   },
   "outputs": [
    {
     "data": {
      "text/html": [
       "<div>\n",
       "<style scoped>\n",
       "    .dataframe tbody tr th:only-of-type {\n",
       "        vertical-align: middle;\n",
       "    }\n",
       "\n",
       "    .dataframe tbody tr th {\n",
       "        vertical-align: top;\n",
       "    }\n",
       "\n",
       "    .dataframe thead th {\n",
       "        text-align: right;\n",
       "    }\n",
       "</style>\n",
       "<table border=\"1\" class=\"dataframe\">\n",
       "  <thead>\n",
       "    <tr style=\"text-align: right;\">\n",
       "      <th></th>\n",
       "      <th>Age</th>\n",
       "      <th>Cabin</th>\n",
       "      <th>Embarked</th>\n",
       "      <th>Fare</th>\n",
       "      <th>Name</th>\n",
       "      <th>Parch</th>\n",
       "      <th>PassengerId</th>\n",
       "      <th>Pclass</th>\n",
       "      <th>Sex</th>\n",
       "      <th>SibSp</th>\n",
       "      <th>Survived</th>\n",
       "      <th>Ticket</th>\n",
       "    </tr>\n",
       "  </thead>\n",
       "  <tbody>\n",
       "    <tr>\n",
       "      <th>0</th>\n",
       "      <td>22.000000</td>\n",
       "      <td>NaN</td>\n",
       "      <td>S</td>\n",
       "      <td>7.2500</td>\n",
       "      <td>Braund, Mr. Owen Harris</td>\n",
       "      <td>0</td>\n",
       "      <td>1</td>\n",
       "      <td>3</td>\n",
       "      <td>male</td>\n",
       "      <td>1</td>\n",
       "      <td>0.0</td>\n",
       "      <td>A/5 21171</td>\n",
       "    </tr>\n",
       "    <tr>\n",
       "      <th>1</th>\n",
       "      <td>38.000000</td>\n",
       "      <td>C85</td>\n",
       "      <td>C</td>\n",
       "      <td>71.2833</td>\n",
       "      <td>Cumings, Mrs. John Bradley (Florence Briggs Th...</td>\n",
       "      <td>0</td>\n",
       "      <td>2</td>\n",
       "      <td>1</td>\n",
       "      <td>female</td>\n",
       "      <td>1</td>\n",
       "      <td>1.0</td>\n",
       "      <td>PC 17599</td>\n",
       "    </tr>\n",
       "    <tr>\n",
       "      <th>2</th>\n",
       "      <td>26.000000</td>\n",
       "      <td>NaN</td>\n",
       "      <td>S</td>\n",
       "      <td>7.9250</td>\n",
       "      <td>Heikkinen, Miss. Laina</td>\n",
       "      <td>0</td>\n",
       "      <td>3</td>\n",
       "      <td>3</td>\n",
       "      <td>female</td>\n",
       "      <td>0</td>\n",
       "      <td>1.0</td>\n",
       "      <td>STON/O2. 3101282</td>\n",
       "    </tr>\n",
       "    <tr>\n",
       "      <th>3</th>\n",
       "      <td>35.000000</td>\n",
       "      <td>C123</td>\n",
       "      <td>S</td>\n",
       "      <td>53.1000</td>\n",
       "      <td>Futrelle, Mrs. Jacques Heath (Lily May Peel)</td>\n",
       "      <td>0</td>\n",
       "      <td>4</td>\n",
       "      <td>1</td>\n",
       "      <td>female</td>\n",
       "      <td>1</td>\n",
       "      <td>1.0</td>\n",
       "      <td>113803</td>\n",
       "    </tr>\n",
       "    <tr>\n",
       "      <th>4</th>\n",
       "      <td>35.000000</td>\n",
       "      <td>NaN</td>\n",
       "      <td>S</td>\n",
       "      <td>8.0500</td>\n",
       "      <td>Allen, Mr. William Henry</td>\n",
       "      <td>0</td>\n",
       "      <td>5</td>\n",
       "      <td>3</td>\n",
       "      <td>male</td>\n",
       "      <td>0</td>\n",
       "      <td>0.0</td>\n",
       "      <td>373450</td>\n",
       "    </tr>\n",
       "    <tr>\n",
       "      <th>...</th>\n",
       "      <td>...</td>\n",
       "      <td>...</td>\n",
       "      <td>...</td>\n",
       "      <td>...</td>\n",
       "      <td>...</td>\n",
       "      <td>...</td>\n",
       "      <td>...</td>\n",
       "      <td>...</td>\n",
       "      <td>...</td>\n",
       "      <td>...</td>\n",
       "      <td>...</td>\n",
       "      <td>...</td>\n",
       "    </tr>\n",
       "    <tr>\n",
       "      <th>1304</th>\n",
       "      <td>25.962264</td>\n",
       "      <td>NaN</td>\n",
       "      <td>S</td>\n",
       "      <td>8.0500</td>\n",
       "      <td>Spector, Mr. Woolf</td>\n",
       "      <td>0</td>\n",
       "      <td>1305</td>\n",
       "      <td>3</td>\n",
       "      <td>male</td>\n",
       "      <td>0</td>\n",
       "      <td>NaN</td>\n",
       "      <td>A.5. 3236</td>\n",
       "    </tr>\n",
       "    <tr>\n",
       "      <th>1305</th>\n",
       "      <td>39.000000</td>\n",
       "      <td>C105</td>\n",
       "      <td>C</td>\n",
       "      <td>108.9000</td>\n",
       "      <td>Oliva y Ocana, Dona. Fermina</td>\n",
       "      <td>0</td>\n",
       "      <td>1306</td>\n",
       "      <td>1</td>\n",
       "      <td>female</td>\n",
       "      <td>0</td>\n",
       "      <td>NaN</td>\n",
       "      <td>PC 17758</td>\n",
       "    </tr>\n",
       "    <tr>\n",
       "      <th>1306</th>\n",
       "      <td>38.500000</td>\n",
       "      <td>NaN</td>\n",
       "      <td>S</td>\n",
       "      <td>7.2500</td>\n",
       "      <td>Saether, Mr. Simon Sivertsen</td>\n",
       "      <td>0</td>\n",
       "      <td>1307</td>\n",
       "      <td>3</td>\n",
       "      <td>male</td>\n",
       "      <td>0</td>\n",
       "      <td>NaN</td>\n",
       "      <td>SOTON/O.Q. 3101262</td>\n",
       "    </tr>\n",
       "    <tr>\n",
       "      <th>1307</th>\n",
       "      <td>25.962264</td>\n",
       "      <td>NaN</td>\n",
       "      <td>S</td>\n",
       "      <td>8.0500</td>\n",
       "      <td>Ware, Mr. Frederick</td>\n",
       "      <td>0</td>\n",
       "      <td>1308</td>\n",
       "      <td>3</td>\n",
       "      <td>male</td>\n",
       "      <td>0</td>\n",
       "      <td>NaN</td>\n",
       "      <td>359309</td>\n",
       "    </tr>\n",
       "    <tr>\n",
       "      <th>1308</th>\n",
       "      <td>25.962264</td>\n",
       "      <td>NaN</td>\n",
       "      <td>C</td>\n",
       "      <td>22.3583</td>\n",
       "      <td>Peter, Master. Michael J</td>\n",
       "      <td>1</td>\n",
       "      <td>1309</td>\n",
       "      <td>3</td>\n",
       "      <td>male</td>\n",
       "      <td>1</td>\n",
       "      <td>NaN</td>\n",
       "      <td>2668</td>\n",
       "    </tr>\n",
       "  </tbody>\n",
       "</table>\n",
       "<p>1309 rows × 12 columns</p>\n",
       "</div>"
      ],
      "text/plain": [
       "            Age Cabin Embarked      Fare  \\\n",
       "0     22.000000   NaN        S    7.2500   \n",
       "1     38.000000   C85        C   71.2833   \n",
       "2     26.000000   NaN        S    7.9250   \n",
       "3     35.000000  C123        S   53.1000   \n",
       "4     35.000000   NaN        S    8.0500   \n",
       "...         ...   ...      ...       ...   \n",
       "1304  25.962264   NaN        S    8.0500   \n",
       "1305  39.000000  C105        C  108.9000   \n",
       "1306  38.500000   NaN        S    7.2500   \n",
       "1307  25.962264   NaN        S    8.0500   \n",
       "1308  25.962264   NaN        C   22.3583   \n",
       "\n",
       "                                                   Name  Parch  PassengerId  \\\n",
       "0                               Braund, Mr. Owen Harris      0            1   \n",
       "1     Cumings, Mrs. John Bradley (Florence Briggs Th...      0            2   \n",
       "2                                Heikkinen, Miss. Laina      0            3   \n",
       "3          Futrelle, Mrs. Jacques Heath (Lily May Peel)      0            4   \n",
       "4                              Allen, Mr. William Henry      0            5   \n",
       "...                                                 ...    ...          ...   \n",
       "1304                                 Spector, Mr. Woolf      0         1305   \n",
       "1305                       Oliva y Ocana, Dona. Fermina      0         1306   \n",
       "1306                       Saether, Mr. Simon Sivertsen      0         1307   \n",
       "1307                                Ware, Mr. Frederick      0         1308   \n",
       "1308                           Peter, Master. Michael J      1         1309   \n",
       "\n",
       "      Pclass     Sex  SibSp  Survived              Ticket  \n",
       "0          3    male      1       0.0           A/5 21171  \n",
       "1          1  female      1       1.0            PC 17599  \n",
       "2          3  female      0       1.0    STON/O2. 3101282  \n",
       "3          1  female      1       1.0              113803  \n",
       "4          3    male      0       0.0              373450  \n",
       "...      ...     ...    ...       ...                 ...  \n",
       "1304       3    male      0       NaN           A.5. 3236  \n",
       "1305       1  female      0       NaN            PC 17758  \n",
       "1306       3    male      0       NaN  SOTON/O.Q. 3101262  \n",
       "1307       3    male      0       NaN              359309  \n",
       "1308       3    male      1       NaN                2668  \n",
       "\n",
       "[1309 rows x 12 columns]"
      ]
     },
     "execution_count": 19,
     "metadata": {},
     "output_type": "execute_result"
    }
   ],
   "source": [
    "df_all.drop(columns = ['Deck'])"
   ]
  },
  {
   "cell_type": "markdown",
   "metadata": {
    "papermill": {
     "duration": 0.086854,
     "end_time": "2020-11-18T23:36:35.837940",
     "exception": false,
     "start_time": "2020-11-18T23:36:35.751086",
     "status": "completed"
    },
    "tags": []
   },
   "source": [
    "# Step 3.3 : Creating \n",
    "\n",
    "Since both Parch and SibSp features are descrbing one's family structure, it would make more sense if we combine these two features into one, which is \"Family Size\" each person has on the Titanic. In this way, we can reduce the dimension of features and it will be easier to use, also, it could show if someone is alone or not directly, here a value of 1 is considered 'Alone'."
   ]
  },
  {
   "cell_type": "code",
   "execution_count": 20,
   "metadata": {
    "execution": {
     "iopub.execute_input": "2020-11-18T23:36:36.040492Z",
     "iopub.status.busy": "2020-11-18T23:36:36.039654Z",
     "iopub.status.idle": "2020-11-18T23:36:36.132552Z",
     "shell.execute_reply": "2020-11-18T23:36:36.131757Z"
    },
    "papermill": {
     "duration": 0.202117,
     "end_time": "2020-11-18T23:36:36.132686",
     "exception": false,
     "start_time": "2020-11-18T23:36:35.930569",
     "status": "completed"
    },
    "tags": []
   },
   "outputs": [
    {
     "ename": "NameError",
     "evalue": "name 'data1' is not defined",
     "output_type": "error",
     "traceback": [
      "\u001b[0;31m---------------------------------------------------------------------------\u001b[0m",
      "\u001b[0;31mNameError\u001b[0m                                 Traceback (most recent call last)",
      "\u001b[0;32m<ipython-input-20-b7ccb6377351>\u001b[0m in \u001b[0;36m<module>\u001b[0;34m\u001b[0m\n\u001b[1;32m      1\u001b[0m \u001b[0mdata\u001b[0m\u001b[0;34m=\u001b[0m\u001b[0mdf_train\u001b[0m\u001b[0;34m.\u001b[0m\u001b[0mcopy\u001b[0m\u001b[0;34m(\u001b[0m\u001b[0;34m)\u001b[0m \u001b[0;31m# shallow copy\u001b[0m\u001b[0;34m\u001b[0m\u001b[0;34m\u001b[0m\u001b[0m\n\u001b[0;32m----> 2\u001b[0;31m \u001b[0mdata\u001b[0m\u001b[0;34m[\u001b[0m\u001b[0;34m'Family_size'\u001b[0m\u001b[0;34m]\u001b[0m \u001b[0;34m=\u001b[0m \u001b[0mdata1\u001b[0m\u001b[0;34m[\u001b[0m\u001b[0;34m'SibSp'\u001b[0m\u001b[0;34m]\u001b[0m \u001b[0;34m+\u001b[0m \u001b[0mdata1\u001b[0m\u001b[0;34m[\u001b[0m\u001b[0;34m'Parch'\u001b[0m\u001b[0;34m]\u001b[0m \u001b[0;34m+\u001b[0m\u001b[0;36m1\u001b[0m\u001b[0;34m\u001b[0m\u001b[0;34m\u001b[0m\u001b[0m\n\u001b[0m\u001b[1;32m      3\u001b[0m \u001b[0;34m\u001b[0m\u001b[0m\n\u001b[1;32m      4\u001b[0m \u001b[0mFamily_Size\u001b[0m \u001b[0;34m=\u001b[0m \u001b[0mdata\u001b[0m\u001b[0;34m.\u001b[0m\u001b[0mgroupby\u001b[0m\u001b[0;34m(\u001b[0m\u001b[0;34m[\u001b[0m\u001b[0;34m'Family_size'\u001b[0m\u001b[0;34m,\u001b[0m\u001b[0;34m'Survived'\u001b[0m\u001b[0;34m]\u001b[0m\u001b[0;34m)\u001b[0m\u001b[0;34m.\u001b[0m\u001b[0mcount\u001b[0m\u001b[0;34m(\u001b[0m\u001b[0;34m)\u001b[0m\u001b[0;34m.\u001b[0m\u001b[0mrename\u001b[0m\u001b[0;34m(\u001b[0m\u001b[0mcolumns\u001b[0m\u001b[0;34m=\u001b[0m\u001b[0;34m{\u001b[0m\u001b[0;34m'Name'\u001b[0m\u001b[0;34m:\u001b[0m \u001b[0;34m'Count'\u001b[0m\u001b[0;34m}\u001b[0m\u001b[0;34m)\u001b[0m\u001b[0;34m.\u001b[0m\u001b[0mdrop\u001b[0m\u001b[0;34m(\u001b[0m\u001b[0mcolumns\u001b[0m \u001b[0;34m=\u001b[0m \u001b[0;34m[\u001b[0m\u001b[0;34m'PassengerId'\u001b[0m\u001b[0;34m,\u001b[0m\u001b[0;34m'Pclass'\u001b[0m\u001b[0;34m,\u001b[0m\u001b[0;34m'Sex'\u001b[0m\u001b[0;34m,\u001b[0m\u001b[0;34m'Age'\u001b[0m\u001b[0;34m,\u001b[0m\u001b[0;34m'SibSp'\u001b[0m\u001b[0;34m,\u001b[0m\u001b[0;34m'Parch'\u001b[0m\u001b[0;34m,\u001b[0m\u001b[0;34m'Ticket'\u001b[0m\u001b[0;34m,\u001b[0m\u001b[0;34m'Fare'\u001b[0m\u001b[0;34m,\u001b[0m\u001b[0;34m'Cabin'\u001b[0m\u001b[0;34m,\u001b[0m\u001b[0;34m'Embarked'\u001b[0m\u001b[0;34m]\u001b[0m\u001b[0;34m)\u001b[0m\u001b[0;34m\u001b[0m\u001b[0;34m\u001b[0m\u001b[0m\n\u001b[1;32m      5\u001b[0m \u001b[0mprint\u001b[0m\u001b[0;34m(\u001b[0m\u001b[0mFamily_Size\u001b[0m\u001b[0;34m)\u001b[0m\u001b[0;34m\u001b[0m\u001b[0;34m\u001b[0m\u001b[0m\n",
      "\u001b[0;31mNameError\u001b[0m: name 'data1' is not defined"
     ]
    }
   ],
   "source": [
    "data=df_train.copy() # shallow copy\n",
    "data['Family_size'] = data1['SibSp'] + data1['Parch'] +1\n",
    "\n",
    "Family_Size = data.groupby(['Family_size','Survived']).count().rename(columns={'Name': 'Count'}).drop(columns = ['PassengerId','Pclass','Sex','Age','SibSp','Parch','Ticket','Fare','Cabin','Embarked'])\n",
    "print(Family_Size)\n",
    "for family_size in [1,2,3,4,5,6,7]:\n",
    "        print('survival rate of Family Size {} : {} '.format(family_size, Family_Size['Count'][family_size][1]/Family_Size['Count'][family_size].sum()))\n",
    "        \n",
    "print('survival rate of Family Size 8 : 0')\n",
    "print('survival rate of Family Size 11 : 0')"
   ]
  },
  {
   "cell_type": "code",
   "execution_count": 21,
   "metadata": {
    "execution": {
     "iopub.execute_input": "2020-11-18T23:36:36.323120Z",
     "iopub.status.busy": "2020-11-18T23:36:36.322237Z",
     "iopub.status.idle": "2020-11-18T23:36:36.338491Z",
     "shell.execute_reply": "2020-11-18T23:36:36.337613Z"
    },
    "papermill": {
     "duration": 0.118468,
     "end_time": "2020-11-18T23:36:36.338634",
     "exception": false,
     "start_time": "2020-11-18T23:36:36.220166",
     "status": "completed"
    },
    "tags": []
   },
   "outputs": [
    {
     "ename": "ValueError",
     "evalue": "Could not interpret input 'Family_size'",
     "output_type": "error",
     "traceback": [
      "\u001b[0;31m---------------------------------------------------------------------------\u001b[0m",
      "\u001b[0;31mValueError\u001b[0m                                Traceback (most recent call last)",
      "\u001b[0;32m<ipython-input-21-0330021fe6da>\u001b[0m in \u001b[0;36m<module>\u001b[0;34m\u001b[0m\n\u001b[0;32m----> 1\u001b[0;31m \u001b[0maxes\u001b[0m \u001b[0;34m=\u001b[0m \u001b[0msns\u001b[0m\u001b[0;34m.\u001b[0m\u001b[0mcountplot\u001b[0m\u001b[0;34m(\u001b[0m\u001b[0mx\u001b[0m \u001b[0;34m=\u001b[0m \u001b[0;34m'Family_size'\u001b[0m\u001b[0;34m,\u001b[0m \u001b[0mhue\u001b[0m\u001b[0;34m=\u001b[0m\u001b[0;34m'Survived'\u001b[0m\u001b[0;34m,\u001b[0m \u001b[0mdata\u001b[0m\u001b[0;34m=\u001b[0m\u001b[0mdata\u001b[0m \u001b[0;34m)\u001b[0m\u001b[0;34m\u001b[0m\u001b[0;34m\u001b[0m\u001b[0m\n\u001b[0m",
      "\u001b[0;32m/opt/conda/lib/python3.7/site-packages/seaborn/categorical.py\u001b[0m in \u001b[0;36mcountplot\u001b[0;34m(x, y, hue, data, order, hue_order, orient, color, palette, saturation, dodge, ax, **kwargs)\u001b[0m\n\u001b[1;32m   3553\u001b[0m                           \u001b[0mestimator\u001b[0m\u001b[0;34m,\u001b[0m \u001b[0mci\u001b[0m\u001b[0;34m,\u001b[0m \u001b[0mn_boot\u001b[0m\u001b[0;34m,\u001b[0m \u001b[0munits\u001b[0m\u001b[0;34m,\u001b[0m \u001b[0mseed\u001b[0m\u001b[0;34m,\u001b[0m\u001b[0;34m\u001b[0m\u001b[0;34m\u001b[0m\u001b[0m\n\u001b[1;32m   3554\u001b[0m                           \u001b[0morient\u001b[0m\u001b[0;34m,\u001b[0m \u001b[0mcolor\u001b[0m\u001b[0;34m,\u001b[0m \u001b[0mpalette\u001b[0m\u001b[0;34m,\u001b[0m \u001b[0msaturation\u001b[0m\u001b[0;34m,\u001b[0m\u001b[0;34m\u001b[0m\u001b[0;34m\u001b[0m\u001b[0m\n\u001b[0;32m-> 3555\u001b[0;31m                           errcolor, errwidth, capsize, dodge)\n\u001b[0m\u001b[1;32m   3556\u001b[0m \u001b[0;34m\u001b[0m\u001b[0m\n\u001b[1;32m   3557\u001b[0m     \u001b[0mplotter\u001b[0m\u001b[0;34m.\u001b[0m\u001b[0mvalue_label\u001b[0m \u001b[0;34m=\u001b[0m \u001b[0;34m\"count\"\u001b[0m\u001b[0;34m\u001b[0m\u001b[0;34m\u001b[0m\u001b[0m\n",
      "\u001b[0;32m/opt/conda/lib/python3.7/site-packages/seaborn/categorical.py\u001b[0m in \u001b[0;36m__init__\u001b[0;34m(self, x, y, hue, data, order, hue_order, estimator, ci, n_boot, units, seed, orient, color, palette, saturation, errcolor, errwidth, capsize, dodge)\u001b[0m\n\u001b[1;32m   1613\u001b[0m         \u001b[0;34m\"\"\"Initialize the plotter.\"\"\"\u001b[0m\u001b[0;34m\u001b[0m\u001b[0;34m\u001b[0m\u001b[0m\n\u001b[1;32m   1614\u001b[0m         self.establish_variables(x, y, hue, data, orient,\n\u001b[0;32m-> 1615\u001b[0;31m                                  order, hue_order, units)\n\u001b[0m\u001b[1;32m   1616\u001b[0m         \u001b[0mself\u001b[0m\u001b[0;34m.\u001b[0m\u001b[0mestablish_colors\u001b[0m\u001b[0;34m(\u001b[0m\u001b[0mcolor\u001b[0m\u001b[0;34m,\u001b[0m \u001b[0mpalette\u001b[0m\u001b[0;34m,\u001b[0m \u001b[0msaturation\u001b[0m\u001b[0;34m)\u001b[0m\u001b[0;34m\u001b[0m\u001b[0;34m\u001b[0m\u001b[0m\n\u001b[1;32m   1617\u001b[0m         \u001b[0mself\u001b[0m\u001b[0;34m.\u001b[0m\u001b[0mestimate_statistic\u001b[0m\u001b[0;34m(\u001b[0m\u001b[0mestimator\u001b[0m\u001b[0;34m,\u001b[0m \u001b[0mci\u001b[0m\u001b[0;34m,\u001b[0m \u001b[0mn_boot\u001b[0m\u001b[0;34m,\u001b[0m \u001b[0mseed\u001b[0m\u001b[0;34m)\u001b[0m\u001b[0;34m\u001b[0m\u001b[0;34m\u001b[0m\u001b[0m\n",
      "\u001b[0;32m/opt/conda/lib/python3.7/site-packages/seaborn/categorical.py\u001b[0m in \u001b[0;36mestablish_variables\u001b[0;34m(self, x, y, hue, data, orient, order, hue_order, units)\u001b[0m\n\u001b[1;32m    150\u001b[0m                 \u001b[0;32mif\u001b[0m \u001b[0misinstance\u001b[0m\u001b[0;34m(\u001b[0m\u001b[0mvar\u001b[0m\u001b[0;34m,\u001b[0m \u001b[0mstr\u001b[0m\u001b[0;34m)\u001b[0m\u001b[0;34m:\u001b[0m\u001b[0;34m\u001b[0m\u001b[0;34m\u001b[0m\u001b[0m\n\u001b[1;32m    151\u001b[0m                     \u001b[0merr\u001b[0m \u001b[0;34m=\u001b[0m \u001b[0;34m\"Could not interpret input '{}'\"\u001b[0m\u001b[0;34m.\u001b[0m\u001b[0mformat\u001b[0m\u001b[0;34m(\u001b[0m\u001b[0mvar\u001b[0m\u001b[0;34m)\u001b[0m\u001b[0;34m\u001b[0m\u001b[0;34m\u001b[0m\u001b[0m\n\u001b[0;32m--> 152\u001b[0;31m                     \u001b[0;32mraise\u001b[0m \u001b[0mValueError\u001b[0m\u001b[0;34m(\u001b[0m\u001b[0merr\u001b[0m\u001b[0;34m)\u001b[0m\u001b[0;34m\u001b[0m\u001b[0;34m\u001b[0m\u001b[0m\n\u001b[0m\u001b[1;32m    153\u001b[0m \u001b[0;34m\u001b[0m\u001b[0m\n\u001b[1;32m    154\u001b[0m             \u001b[0;31m# Figure out the plotting orientation\u001b[0m\u001b[0;34m\u001b[0m\u001b[0;34m\u001b[0m\u001b[0;34m\u001b[0m\u001b[0m\n",
      "\u001b[0;31mValueError\u001b[0m: Could not interpret input 'Family_size'"
     ]
    }
   ],
   "source": [
    "axes = sns.countplot(x = 'Family_size', hue='Survived', data=data )"
   ]
  },
  {
   "cell_type": "markdown",
   "metadata": {
    "papermill": {
     "duration": 0.090407,
     "end_time": "2020-11-18T23:36:36.518397",
     "exception": false,
     "start_time": "2020-11-18T23:36:36.427990",
     "status": "completed"
    },
    "tags": []
   },
   "source": [
    "Here we can see that the probabilty of survival is higher for someone who has his/her family size between 2 and 4, and the chance of survival is lower if someone's family size is less than 2 or larger than 4."
   ]
  },
  {
   "cell_type": "markdown",
   "metadata": {
    "papermill": {
     "duration": 0.088468,
     "end_time": "2020-11-18T23:36:36.696110",
     "exception": false,
     "start_time": "2020-11-18T23:36:36.607642",
     "status": "completed"
    },
    "tags": []
   },
   "source": [
    "# Step 3.4 : Converting\n",
    "\n",
    "For this dataset, I will convert some features into dummy variables to apply the machine learning models. "
   ]
  },
  {
   "cell_type": "markdown",
   "metadata": {
    "papermill": {
     "duration": 0.089126,
     "end_time": "2020-11-18T23:36:36.875269",
     "exception": false,
     "start_time": "2020-11-18T23:36:36.786143",
     "status": "completed"
    },
    "tags": []
   },
   "source": [
    "# Step 3.5 : Exploratory Data Analysis -- Continuous Features\n",
    "\n",
    "There are 2 continuous features :Age and Fare. Both of them have good split points and spikes of survival rate. The distribution has more spikes and bumps in training set, but it is smoother in test set. Therefore, the model generated by the training set may be overfitted and it may not be optimal for the test set.\n",
    "\n",
    "From the distribution of Age we can see that the probability of survival for individuals younger than 15 is higher than other age droups, which is corresponding to our common sense that: ladies and children first.\n",
    "\n",
    "The distribution of Fare is positively skewed because of the larger value of fare generated by larger family size and higher Pclass. And the survival rate is higher on the tails since the almost all lower fares mean lower class and traveling alone."
   ]
  },
  {
   "cell_type": "code",
   "execution_count": 22,
   "metadata": {
    "execution": {
     "iopub.execute_input": "2020-11-18T23:36:37.082726Z",
     "iopub.status.busy": "2020-11-18T23:36:37.076696Z",
     "iopub.status.idle": "2020-11-18T23:36:38.262094Z",
     "shell.execute_reply": "2020-11-18T23:36:38.262686Z"
    },
    "papermill": {
     "duration": 1.298376,
     "end_time": "2020-11-18T23:36:38.262869",
     "exception": false,
     "start_time": "2020-11-18T23:36:36.964493",
     "status": "completed"
    },
    "tags": []
   },
   "outputs": [
    {
     "data": {
      "image/png": "[encoded data removed]",
      "text/plain": [
       "<Figure size 1440x1440 with 4 Axes>"
      ]
     },
     "metadata": {
      "needs_background": "light"
     },
     "output_type": "display_data"
    }
   ],
   "source": [
    "cont_features = ['Age', 'Fare']\n",
    "surv = df_train['Survived'] == 1\n",
    "\n",
    "fig, axs = plt.subplots(ncols=2, nrows=2, figsize=(20, 20))\n",
    "plt.subplots_adjust(right=1.5)\n",
    "\n",
    "for i, feature in enumerate(cont_features): \n",
    "    sns.distplot(df_train[~surv][feature], label='Not Survived', hist=True, color='#e74c3c', ax=axs[0][i]) \n",
    "    sns.distplot(df_train[surv][feature], label='Survived', hist=True, color='#2ecc71', ax=axs[0][i])\n",
    "    \n",
    "    # Distribution of feature in dataset\n",
    "    sns.distplot(df_train[feature], label='Training Set', hist=False, color='#e74c3c', ax=axs[1][i])\n",
    "    sns.distplot(df_test[feature], label='Test Set', hist=False, color='#2ecc71', ax=axs[1][i])\n",
    "    \n",
    "    axs[0][i].set_xlabel('')\n",
    "    axs[1][i].set_xlabel('')\n",
    "     \n",
    "    # just providing the ticks for x & y axis in respective plots    \n",
    "    for j in range(2):        \n",
    "        axs[i][j].tick_params(axis='x', labelsize=20)\n",
    "        axs[i][j].tick_params(axis='y', labelsize=20)\n",
    "    \n",
    "    axs[0][i].legend(loc='upper right', prop={'size': 20})\n",
    "    axs[1][i].legend(loc='upper right', prop={'size': 20})\n",
    "    axs[0][i].set_title('Distribution of Survival in {}'.format(feature), size=20, y=1.05)\n",
    "\n",
    "axs[1][0].set_title('Distribution of {} Feature'.format('Age'), size=20, y=1.05)\n",
    "axs[1][1].set_title('Distribution of {} Feature'.format('Fare'), size=20, y=1.05)\n",
    "        \n",
    "plt.show()"
   ]
  },
  {
   "cell_type": "markdown",
   "metadata": {
    "papermill": {
     "duration": 0.093747,
     "end_time": "2020-11-18T23:36:38.450877",
     "exception": false,
     "start_time": "2020-11-18T23:36:38.357130",
     "status": "completed"
    },
    "tags": []
   },
   "source": [
    "# Step 3.6 : Exploratory Data Analysis -- Categorical Features\n",
    "\n",
    "From the histograms below, we can see that every categorical feature has one class with significant  higher mortality rate:\n",
    "\n",
    "* Embarked: Passengers boarder from Southampton have significant higher death rate;\n",
    "* Parch & SibSp: Passengers with zero Parch or zero Sibsp have the much higher death rate, and this also shows that most of passengers are traveling alone;\n",
    "* Pclass: Passengers from third class have lower survival rate compared to the other two classes, especially first class;\n",
    "* Sex: The survival rate of male is much much lower than the survival rate of female. This is a powerful evidence that females are more likely to survive. \n"
   ]
  },
  {
   "cell_type": "code",
   "execution_count": 23,
   "metadata": {
    "execution": {
     "iopub.execute_input": "2020-11-18T23:36:38.648093Z",
     "iopub.status.busy": "2020-11-18T23:36:38.646505Z",
     "iopub.status.idle": "2020-11-18T23:36:39.632611Z",
     "shell.execute_reply": "2020-11-18T23:36:39.631746Z"
    },
    "papermill": {
     "duration": 1.08815,
     "end_time": "2020-11-18T23:36:39.632757",
     "exception": false,
     "start_time": "2020-11-18T23:36:38.544607",
     "status": "completed"
    },
    "tags": []
   },
   "outputs": [
    {
     "data": {
      "image/png": "[encoded data removed]",
      "text/plain": [
       "<Figure size 432x288 with 1 Axes>"
      ]
     },
     "metadata": {
      "needs_background": "light"
     },
     "output_type": "display_data"
    },
    {
     "data": {
      "image/png": "[encoded data removed]",
      "text/plain": [
       "<Figure size 432x288 with 1 Axes>"
      ]
     },
     "metadata": {
      "needs_background": "light"
     },
     "output_type": "display_data"
    },
    {
     "data": {
      "image/png": "[encoded data removed]",
      "text/plain": [
       "<Figure size 432x288 with 1 Axes>"
      ]
     },
     "metadata": {
      "needs_background": "light"
     },
     "output_type": "display_data"
    },
    {
     "data": {
      "image/png": "[encoded data removed]",
      "text/plain": [
       "<Figure size 432x288 with 1 Axes>"
      ]
     },
     "metadata": {
      "needs_background": "light"
     },
     "output_type": "display_data"
    },
    {
     "data": {
      "image/png": "[encoded data removed]",
      "text/plain": [
       "<Figure size 432x288 with 1 Axes>"
      ]
     },
     "metadata": {
      "needs_background": "light"
     },
     "output_type": "display_data"
    }
   ],
   "source": [
    "features = ['Embarked', 'Parch', 'SibSp' , 'Pclass', 'Sex' ]\n",
    "\n",
    "for feature in (features):    \n",
    "    \n",
    "    sns.countplot(x=feature, hue='Survived', data=df_train)\n",
    "    \n",
    "    plt.xlabel('{}'.format(feature), size=20, labelpad=15)\n",
    "    plt.ylabel('Passenger Count', size=20, labelpad=15)    \n",
    "   \n",
    "    \n",
    "    plt.legend(['Not Survived', 'Survived'], loc='upper center', prop={'size': 12})\n",
    "    plt.title('Count of Survival in {} Feature'.format(feature), size=20, y=1.05)\n",
    "\n",
    "    plt.show()"
   ]
  },
  {
   "cell_type": "markdown",
   "metadata": {
    "papermill": {
     "duration": 0.097403,
     "end_time": "2020-11-18T23:36:39.828841",
     "exception": false,
     "start_time": "2020-11-18T23:36:39.731438",
     "status": "completed"
    },
    "tags": []
   },
   "source": [
    "# Step 3.7 : Exploratory Data Analysis -- Correlation Between The Features"
   ]
  },
  {
   "cell_type": "code",
   "execution_count": 24,
   "metadata": {
    "execution": {
     "iopub.execute_input": "2020-11-18T23:36:40.043465Z",
     "iopub.status.busy": "2020-11-18T23:36:40.035286Z",
     "iopub.status.idle": "2020-11-18T23:36:40.477632Z",
     "shell.execute_reply": "2020-11-18T23:36:40.476778Z"
    },
    "papermill": {
     "duration": 0.550412,
     "end_time": "2020-11-18T23:36:40.477774",
     "exception": false,
     "start_time": "2020-11-18T23:36:39.927362",
     "status": "completed"
    },
    "tags": []
   },
   "outputs": [
    {
     "data": {
      "image/png": "[encoded data removed]",
      "text/plain": [
       "<Figure size 432x288 with 2 Axes>"
      ]
     },
     "metadata": {
      "needs_background": "light"
     },
     "output_type": "display_data"
    }
   ],
   "source": [
    "sns.heatmap(df_all.corr(),annot=True,cmap='RdYlGn',linewidths=0.2) \n",
    "fig.set_size_inches(10,8)\n",
    "plt.show()"
   ]
  },
  {
   "cell_type": "markdown",
   "metadata": {
    "papermill": {
     "duration": 0.098606,
     "end_time": "2020-11-18T23:36:40.676027",
     "exception": false,
     "start_time": "2020-11-18T23:36:40.577421",
     "status": "completed"
    },
    "tags": []
   },
   "source": [
    "From the heat map we can see a few features are correlated to some certain level:\n",
    "* Age & Pclass (-0.45): Most passengers of first class are wealthy people and they are not young since they need time to gain their wealth. This follows our common sense.\n",
    "* Fare & Pclass (-0.56): This is also straightforward that first class are much more expensive than the third class.\n",
    "* Fare & Survived (0.26): Since Fare is highly related to Pclass, and people from third class are less likely to survive. It is also easily to understand.\n",
    "* Parch & SibSp (0.37): Both features measure the family size of a passenger. \n",
    "* Pclass & Survived (-0.34): This is mentioned above in the Fare & Survived which is not odd at all."
   ]
  },
  {
   "cell_type": "markdown",
   "metadata": {
    "papermill": {
     "duration": 0.098875,
     "end_time": "2020-11-18T23:36:40.874663",
     "exception": false,
     "start_time": "2020-11-18T23:36:40.775788",
     "status": "completed"
    },
    "tags": []
   },
   "source": [
    "# Step 4 : Feature Engineering"
   ]
  },
  {
   "cell_type": "markdown",
   "metadata": {
    "papermill": {
     "duration": 0.099997,
     "end_time": "2020-11-18T23:36:41.075004",
     "exception": false,
     "start_time": "2020-11-18T23:36:40.975007",
     "status": "completed"
    },
    "tags": []
   },
   "source": [
    "**Step 4.1 : Feature Engineering -- Fare**\n",
    "\n",
    "For Fare,10 quantile based bins are used for the following histograms.\n",
    "\n",
    "From the first histogram below we can see that the Fare feature is right skewed and the number of passengers survived is approximately increasing as the value of Fare increases, as we can see the yellow bar is getting higher and higher. And the survival rate within each bin is approximately increasing as well.\n",
    "\n",
    "This pattern can be explain by the second histogram below. The second histogram describes the  relationship between Fare and Pclass and the result highly comform to the result of hotmap above that the Fare is highly related to the Pclass. As we can see from this histogram, the first class has the most expensive fares and the lowest fares are occupied by third class only. The number of passengers from higher classes are increasing as the Fare increases, and this \"right skewed\" pattern is exactly what we are seeing from the histogram of \"Count of Survival in Fare Feature\". \n",
    "\n"
   ]
  },
  {
   "cell_type": "code",
   "execution_count": 25,
   "metadata": {
    "execution": {
     "iopub.execute_input": "2020-11-18T23:36:41.288344Z",
     "iopub.status.busy": "2020-11-18T23:36:41.280945Z",
     "iopub.status.idle": "2020-11-18T23:36:41.291695Z",
     "shell.execute_reply": "2020-11-18T23:36:41.290924Z"
    },
    "papermill": {
     "duration": 0.116984,
     "end_time": "2020-11-18T23:36:41.291838",
     "exception": false,
     "start_time": "2020-11-18T23:36:41.174854",
     "status": "completed"
    },
    "tags": []
   },
   "outputs": [],
   "source": [
    "df_all['Fare'] = pd.qcut(df_all['Fare'], 10)"
   ]
  },
  {
   "cell_type": "code",
   "execution_count": 26,
   "metadata": {
    "execution": {
     "iopub.execute_input": "2020-11-18T23:36:41.511135Z",
     "iopub.status.busy": "2020-11-18T23:36:41.503004Z",
     "iopub.status.idle": "2020-11-18T23:36:41.789104Z",
     "shell.execute_reply": "2020-11-18T23:36:41.788413Z"
    },
    "papermill": {
     "duration": 0.396884,
     "end_time": "2020-11-18T23:36:41.789234",
     "exception": false,
     "start_time": "2020-11-18T23:36:41.392350",
     "status": "completed"
    },
    "tags": []
   },
   "outputs": [
    {
     "data": {
      "image/png": "[encoded data removed]",
      "text/plain": [
       "<Figure size 1584x648 with 1 Axes>"
      ]
     },
     "metadata": {
      "needs_background": "light"
     },
     "output_type": "display_data"
    }
   ],
   "source": [
    "plt.subplots(figsize=(22, 9))\n",
    "sns.countplot(x='Fare', hue='Survived', data=df_all)\n",
    "\n",
    "plt.xlabel('Fare', size=15, labelpad=20)\n",
    "plt.ylabel('Passenger Count', size=15, labelpad=20)\n",
    "\n",
    "plt.legend(['Not Survived', 'Survived'], loc='upper right', prop={'size': 15})\n",
    "plt.title('Count of Survival in {} Feature'.format('Fare'), size=15, y=1.05)\n",
    "\n",
    "plt.show()"
   ]
  },
  {
   "cell_type": "code",
   "execution_count": 27,
   "metadata": {
    "execution": {
     "iopub.execute_input": "2020-11-18T23:36:42.008662Z",
     "iopub.status.busy": "2020-11-18T23:36:42.001950Z",
     "iopub.status.idle": "2020-11-18T23:36:42.355220Z",
     "shell.execute_reply": "2020-11-18T23:36:42.354557Z"
    },
    "papermill": {
     "duration": 0.463534,
     "end_time": "2020-11-18T23:36:42.355364",
     "exception": false,
     "start_time": "2020-11-18T23:36:41.891830",
     "status": "completed"
    },
    "tags": []
   },
   "outputs": [
    {
     "data": {
      "image/png": "[encoded data removed]",
      "text/plain": [
       "<Figure size 1584x648 with 1 Axes>"
      ]
     },
     "metadata": {
      "needs_background": "light"
     },
     "output_type": "display_data"
    }
   ],
   "source": [
    "plt.subplots(figsize=(22, 9))\n",
    "sns.countplot(x='Fare', hue='Pclass', data=df_all)\n",
    "\n",
    "plt.xlabel('Fare', size=15, labelpad=20)\n",
    "plt.ylabel('Passenger Count', size=15, labelpad=20)\n",
    "\n",
    "plt.title('Fare V.S. Pclass'.format('Fare'), size=15, y=1.05)\n",
    "\n",
    "plt.show()"
   ]
  },
  {
   "cell_type": "markdown",
   "metadata": {
    "papermill": {
     "duration": 0.102666,
     "end_time": "2020-11-18T23:36:42.562165",
     "exception": false,
     "start_time": "2020-11-18T23:36:42.459499",
     "status": "completed"
    },
    "tags": []
   },
   "source": [
    "**Step 4.2 : Feature Engineering -- Age**\n",
    "\n",
    "Since there are some missing values for Age and we filled the missing values with the average age based on sex and Pclass, we need to double check if there is any missing values for Age. And we can see from the output below that all missinge value for Age are filled properly."
   ]
  },
  {
   "cell_type": "code",
   "execution_count": 28,
   "metadata": {
    "execution": {
     "iopub.execute_input": "2020-11-18T23:36:42.777192Z",
     "iopub.status.busy": "2020-11-18T23:36:42.776074Z",
     "iopub.status.idle": "2020-11-18T23:36:42.780533Z",
     "shell.execute_reply": "2020-11-18T23:36:42.779763Z"
    },
    "papermill": {
     "duration": 0.114439,
     "end_time": "2020-11-18T23:36:42.780667",
     "exception": false,
     "start_time": "2020-11-18T23:36:42.666228",
     "status": "completed"
    },
    "tags": []
   },
   "outputs": [
    {
     "data": {
      "text/plain": [
       "0"
      ]
     },
     "execution_count": 28,
     "metadata": {},
     "output_type": "execute_result"
    }
   ],
   "source": [
    "df_all['Age'].isnull().sum()"
   ]
  },
  {
   "cell_type": "markdown",
   "metadata": {
    "papermill": {
     "duration": 0.104917,
     "end_time": "2020-11-18T23:36:42.989224",
     "exception": false,
     "start_time": "2020-11-18T23:36:42.884307",
     "status": "completed"
    },
    "tags": []
   },
   "source": [
    "Base on the histogram of Age and the descriptivestatistics, the Age feature is kind of normally distributed and the center is around 30. And we can see from the plot below that certain age groups have higher survival rate such as children under 16 and some age groups have lower survival rate such as [16.0, 21.0] and [22.185, 25.962]. This means the Age feature should be considered if we want to fit a model. "
   ]
  },
  {
   "cell_type": "code",
   "execution_count": 29,
   "metadata": {
    "execution": {
     "iopub.execute_input": "2020-11-18T23:36:43.203081Z",
     "iopub.status.busy": "2020-11-18T23:36:43.202226Z",
     "iopub.status.idle": "2020-11-18T23:36:43.410588Z",
     "shell.execute_reply": "2020-11-18T23:36:43.411180Z"
    },
    "papermill": {
     "duration": 0.318261,
     "end_time": "2020-11-18T23:36:43.411354",
     "exception": false,
     "start_time": "2020-11-18T23:36:43.093093",
     "status": "completed"
    },
    "tags": []
   },
   "outputs": [
    {
     "data": {
      "text/plain": [
       "count    1309.000000\n",
       "mean       29.376186\n",
       "std        13.169015\n",
       "min         0.170000\n",
       "25%        22.000000\n",
       "50%        26.000000\n",
       "75%        37.000000\n",
       "max        80.000000\n",
       "Name: Age, dtype: float64"
      ]
     },
     "execution_count": 29,
     "metadata": {},
     "output_type": "execute_result"
    },
    {
     "data": {
      "image/png": "[encoded data removed]",
      "text/plain": [
       "<Figure size 432x288 with 1 Axes>"
      ]
     },
     "metadata": {
      "needs_background": "light"
     },
     "output_type": "display_data"
    }
   ],
   "source": [
    "plt.hist(df_all['Age'])\n",
    "df_all['Age'].describe()"
   ]
  },
  {
   "cell_type": "code",
   "execution_count": 30,
   "metadata": {
    "execution": {
     "iopub.execute_input": "2020-11-18T23:36:43.634408Z",
     "iopub.status.busy": "2020-11-18T23:36:43.633561Z",
     "iopub.status.idle": "2020-11-18T23:36:43.926935Z",
     "shell.execute_reply": "2020-11-18T23:36:43.926150Z"
    },
    "papermill": {
     "duration": 0.409104,
     "end_time": "2020-11-18T23:36:43.927070",
     "exception": false,
     "start_time": "2020-11-18T23:36:43.517966",
     "status": "completed"
    },
    "tags": []
   },
   "outputs": [
    {
     "data": {
      "image/png": "[encoded data removed]",
      "text/plain": [
       "<Figure size 1584x648 with 1 Axes>"
      ]
     },
     "metadata": {
      "needs_background": "light"
     },
     "output_type": "display_data"
    }
   ],
   "source": [
    "df_all['Age'] = pd.qcut(df_all['Age'], 10)\n",
    "plt.subplots(figsize=(22, 9))\n",
    "sns.countplot(x='Age', hue='Survived', data=df_all)\n",
    "\n",
    "plt.xlabel('Age', size=15, labelpad=20)\n",
    "plt.ylabel('Passenger Count', size=15, labelpad=20)\n",
    "\n",
    "\n",
    "plt.legend(['Not Survived', 'Survived'], loc='upper right', prop={'size': 15})\n",
    "plt.title('Survival Counts in {} Feature'.format('Age'), size=15, y=1.05)\n",
    "\n",
    "plt.show()"
   ]
  },
  {
   "cell_type": "markdown",
   "metadata": {
    "papermill": {
     "duration": 0.115125,
     "end_time": "2020-11-18T23:36:44.151283",
     "exception": false,
     "start_time": "2020-11-18T23:36:44.036158",
     "status": "completed"
    },
    "tags": []
   },
   "source": [
    "**Step 4.3 : Feature Engineering -- Ticket**\n",
    "\n",
    "The data type of Ticket feature is \"object\" and as we see from the random sample below that the data of Ticket feature is not consistent and is neither continuous nor categorical. It's just a series of combination of numbers and letters without any rule or regular pattern.\n",
    "\n",
    "Therefore, the feature Ticket should be dropped too. "
   ]
  },
  {
   "cell_type": "code",
   "execution_count": 31,
   "metadata": {
    "execution": {
     "iopub.execute_input": "2020-11-18T23:36:44.371483Z",
     "iopub.status.busy": "2020-11-18T23:36:44.370535Z",
     "iopub.status.idle": "2020-11-18T23:36:44.375377Z",
     "shell.execute_reply": "2020-11-18T23:36:44.374644Z"
    },
    "papermill": {
     "duration": 0.118459,
     "end_time": "2020-11-18T23:36:44.375513",
     "exception": false,
     "start_time": "2020-11-18T23:36:44.257054",
     "status": "completed"
    },
    "tags": []
   },
   "outputs": [
    {
     "data": {
      "text/plain": [
       "329              111361\n",
       "732              239855\n",
       "884     SOTON/OQ 392076\n",
       "82               330932\n",
       "388              367655\n",
       "283          A/5. 10482\n",
       "1255              11765\n",
       "268            PC 17582\n",
       "1045             347077\n",
       "1064               2673\n",
       "437               29106\n",
       "489          C.A. 37671\n",
       "796               17465\n",
       "70           C.A. 33111\n",
       "1011         C.A. 33595\n",
       "Name: Ticket, dtype: object"
      ]
     },
     "execution_count": 31,
     "metadata": {},
     "output_type": "execute_result"
    }
   ],
   "source": [
    "type(df_all['Ticket'])\n",
    "df_all['Ticket'].sample(15)"
   ]
  },
  {
   "cell_type": "markdown",
   "metadata": {
    "papermill": {
     "duration": 0.107466,
     "end_time": "2020-11-18T23:36:44.590910",
     "exception": false,
     "start_time": "2020-11-18T23:36:44.483444",
     "status": "completed"
    },
    "tags": []
   },
   "source": [
    "**Step 4.4 : Feature Engineering -- Embarked**\n",
    "\n",
    "As we see from the graph and the output below, passengers boarded from Cherbourg have the higher survival rate. This feature should be considered if we want to fit a model because the passenger is more likely to survive if he/she boarded from Cherbourg."
   ]
  },
  {
   "cell_type": "code",
   "execution_count": 32,
   "metadata": {
    "execution": {
     "iopub.execute_input": "2020-11-18T23:36:44.823103Z",
     "iopub.status.busy": "2020-11-18T23:36:44.822267Z",
     "iopub.status.idle": "2020-11-18T23:36:44.834417Z",
     "shell.execute_reply": "2020-11-18T23:36:44.835243Z"
    },
    "papermill": {
     "duration": 0.136849,
     "end_time": "2020-11-18T23:36:44.835418",
     "exception": false,
     "start_time": "2020-11-18T23:36:44.698569",
     "status": "completed"
    },
    "tags": []
   },
   "outputs": [
    {
     "name": "stdout",
     "output_type": "stream",
     "text": [
      "                   Count\n",
      "Embarked Survived       \n",
      "C        0            75\n",
      "         1            93\n",
      "Q        0            47\n",
      "         1            30\n",
      "S        0           427\n",
      "         1           219\n",
      "survival rate of Embarked C : 0.5535714285714286 \n",
      "survival rate of Embarked Q : 0.38961038961038963 \n",
      "survival rate of Embarked S : 0.33900928792569657 \n"
     ]
    }
   ],
   "source": [
    "data1=df_train.copy()\n",
    "\n",
    "Embarked = data1.groupby(['Embarked','Survived']).count().rename(columns={'Name': 'Count'}).drop(columns = ['PassengerId','Pclass','Sex','Age','SibSp','Parch','Ticket','Fare','Cabin'])\n",
    "print(Embarked)\n",
    "\n",
    "for e in [\"C\",\"Q\",\"S\"]:\n",
    "        print('survival rate of Embarked {} : {} '.format(e, Embarked['Count'][e][1]/Embarked['Count'][e].sum()))\n",
    "        "
   ]
  },
  {
   "cell_type": "code",
   "execution_count": 33,
   "metadata": {
    "execution": {
     "iopub.execute_input": "2020-11-18T23:36:45.073180Z",
     "iopub.status.busy": "2020-11-18T23:36:45.066339Z",
     "iopub.status.idle": "2020-11-18T23:36:45.234791Z",
     "shell.execute_reply": "2020-11-18T23:36:45.233986Z"
    },
    "papermill": {
     "duration": 0.29066,
     "end_time": "2020-11-18T23:36:45.234943",
     "exception": false,
     "start_time": "2020-11-18T23:36:44.944283",
     "status": "completed"
    },
    "tags": []
   },
   "outputs": [
    {
     "data": {
      "text/plain": [
       "<matplotlib.axes._subplots.AxesSubplot at 0x7effb9133e50>"
      ]
     },
     "execution_count": 33,
     "metadata": {},
     "output_type": "execute_result"
    },
    {
     "data": {
      "image/png": "[encoded data removed]",
      "text/plain": [
       "<Figure size 432x288 with 1 Axes>"
      ]
     },
     "metadata": {
      "needs_background": "light"
     },
     "output_type": "display_data"
    }
   ],
   "source": [
    "sns.countplot(x='Embarked',hue='Survived',data=df_train)"
   ]
  },
  {
   "cell_type": "markdown",
   "metadata": {
    "papermill": {
     "duration": 0.108914,
     "end_time": "2020-11-18T23:36:45.453264",
     "exception": false,
     "start_time": "2020-11-18T23:36:45.344350",
     "status": "completed"
    },
    "tags": []
   },
   "source": [
    "**Step 4.5 : Feature Engineering -- Family Size : Parch + SibSp**\n",
    "\n",
    "As we mentioned before in Step 3, both Parch and SibSp features are descrbing one's family structure, and we are going to combine these two features \"Family Size\". If someone is traveling alone then he/she will have a family size of 1. \n",
    "\n",
    "Here, as we can see from the first bar chart that a individual who has family size of 2,3,4 is more likely to survive and the survival rate of family size 2,3,4 are much higher than others. Based on common sense we know that a family with 2 to 4 family members is very common and it is the most popular family structure. So here, after family size are calculated from Parch and SibSp, I divide the Family Size into 3 groups which are: Alone(1), Normal(2-4) and Large(5-11). \n",
    "\n",
    "From the second bar chart we can see that if someone is grouped into \"Normal\" based on the family size he/she has, then this individual has much higher probability of survival compared to others from \"Alone\" or \"Large\". This conclusion is evidented by the probability too. "
   ]
  },
  {
   "cell_type": "code",
   "execution_count": 34,
   "metadata": {
    "execution": {
     "iopub.execute_input": "2020-11-18T23:36:45.690923Z",
     "iopub.status.busy": "2020-11-18T23:36:45.688098Z",
     "iopub.status.idle": "2020-11-18T23:36:46.139619Z",
     "shell.execute_reply": "2020-11-18T23:36:46.138616Z"
    },
    "papermill": {
     "duration": 0.574822,
     "end_time": "2020-11-18T23:36:46.139757",
     "exception": false,
     "start_time": "2020-11-18T23:36:45.564935",
     "status": "completed"
    },
    "tags": []
   },
   "outputs": [
    {
     "data": {
      "image/png": "[encoded data removed]",
      "text/plain": [
       "<Figure size 432x288 with 1 Axes>"
      ]
     },
     "metadata": {
      "needs_background": "light"
     },
     "output_type": "display_data"
    },
    {
     "data": {
      "text/plain": [
       "<matplotlib.axes._subplots.AxesSubplot at 0x7effb8f114d0>"
      ]
     },
     "execution_count": 34,
     "metadata": {},
     "output_type": "execute_result"
    },
    {
     "data": {
      "image/png": "[encoded data removed]",
      "text/plain": [
       "<Figure size 432x288 with 1 Axes>"
      ]
     },
     "metadata": {
      "needs_background": "light"
     },
     "output_type": "display_data"
    }
   ],
   "source": [
    "df_all['Family_Size'] = df_all['SibSp'] + df_all['Parch'] + 1\n",
    "sns.countplot(x='Family_Size', hue='Survived', data=df_all)\n",
    "plt.show()\n",
    "\n",
    "# Mapping Family Size\n",
    "family_map = {1: 'Alone', 2: 'Normal', 3: 'Normal', 4: 'Normal', 5: 'Large', 6: 'Large', 7: 'Large', 8: 'Large', 11: 'Large'}\n",
    "df_all['Family_Size_Grouped'] = df_all['Family_Size'].map(family_map)\n",
    "\n",
    "sns.countplot(x='Family_Size_Grouped', hue='Survived', data=df_all)\n",
    "\n",
    "\n"
   ]
  },
  {
   "cell_type": "code",
   "execution_count": 35,
   "metadata": {
    "execution": {
     "iopub.execute_input": "2020-11-18T23:36:46.382086Z",
     "iopub.status.busy": "2020-11-18T23:36:46.373990Z",
     "iopub.status.idle": "2020-11-18T23:36:46.399308Z",
     "shell.execute_reply": "2020-11-18T23:36:46.398200Z"
    },
    "papermill": {
     "duration": 0.147571,
     "end_time": "2020-11-18T23:36:46.399498",
     "exception": false,
     "start_time": "2020-11-18T23:36:46.251927",
     "status": "completed"
    },
    "tags": []
   },
   "outputs": [
    {
     "name": "stdout",
     "output_type": "stream",
     "text": [
      "                              Count\n",
      "Family_Size_Grouped Survived       \n",
      "Alone               0           374\n",
      "                    1           163\n",
      "Large               0            52\n",
      "                    1            10\n",
      "Normal              0           123\n",
      "                    1           169\n",
      "survival rate of Family_Size_Grouped Normal : 0.5787671232876712 \n",
      "survival rate of Family_Size_Grouped Alone : 0.30353817504655495 \n",
      "survival rate of Family_Size_Grouped Large : 0.16129032258064516 \n"
     ]
    }
   ],
   "source": [
    "data2 = df_train.copy()\n",
    "\n",
    "data2['Family_Size'] = data2['SibSp'] + data2['Parch'] + 1\n",
    "family_map = {1: 'Alone', 2: 'Normal', 3: 'Normal', 4: 'Normal', 5: 'Large', 6: 'Large', 7: 'Large', 8: 'Large', 11: 'Large'}\n",
    "data2['Family_Size_Grouped'] = data2['Family_Size'].map(family_map)\n",
    "\n",
    "group = data2.groupby(['Family_Size_Grouped','Survived']).count().rename(columns={'Name': 'Count'}).drop(columns = ['PassengerId','Pclass','Sex','Age','SibSp','Parch','Ticket','Fare','Cabin','Embarked','Family_Size'])\n",
    "print(group)\n",
    "\n",
    "for f in ['Normal','Alone','Large']:\n",
    "        print('survival rate of Family_Size_Grouped {} : {} '.format(f, group['Count'][f][1]/group['Count'][f].sum()))"
   ]
  },
  {
   "cell_type": "markdown",
   "metadata": {
    "papermill": {
     "duration": 0.115715,
     "end_time": "2020-11-18T23:36:46.628092",
     "exception": false,
     "start_time": "2020-11-18T23:36:46.512377",
     "status": "completed"
    },
    "tags": []
   },
   "source": [
    "**Step 4.6 : Feature Engineering -- Conclusion**\n",
    "\n",
    "After the feature engineering, we have examined and dropped 4 original features: SibSp, Parch, Ticket, and Carbin. And we created one more feature which is Family_Size_Grouped. Here I set the Embarked feature to numbers so that we can covert it to dummy variable easily and precisely. And also, all remaining features will be converted to dummy variables later to apply machine learning models.\n",
    "\n",
    "Features I selected are:Fare, Age, Embarked, Pclass, Sex and Family_Size_Grouped."
   ]
  },
  {
   "cell_type": "code",
   "execution_count": 36,
   "metadata": {
    "execution": {
     "iopub.execute_input": "2020-11-18T23:36:46.878769Z",
     "iopub.status.busy": "2020-11-18T23:36:46.870479Z",
     "iopub.status.idle": "2020-11-18T23:36:46.890171Z",
     "shell.execute_reply": "2020-11-18T23:36:46.889495Z"
    },
    "papermill": {
     "duration": 0.150856,
     "end_time": "2020-11-18T23:36:46.890312",
     "exception": false,
     "start_time": "2020-11-18T23:36:46.739456",
     "status": "completed"
    },
    "tags": []
   },
   "outputs": [],
   "source": [
    "df_test['Family_Size'] = df_test['SibSp'] + df_test['Parch'] + 1\n",
    "family_map = {1: 'Alone', 2: 'Normal', 3: 'Normal', 4: 'Normal', 5: 'Large', 6: 'Large', 7: 'Large', 8: 'Large', 11: 'Large'}\n",
    "df_test['Family_Size_Grouped'] = df_test['Family_Size'].map(family_map)\n",
    "\n",
    "df_train['Family_Size'] = df_train['SibSp'] + df_train['Parch'] + 1\n",
    "family_map = {1: 'Alone', 2: 'Normal', 3: 'Normal', 4: 'Normal', 5: 'Large', 6: 'Large', 7: 'Large', 8: 'Large', 11: 'Large'}\n",
    "df_train['Family_Size_Grouped'] = df_train['Family_Size'].map(family_map)\n",
    "\n",
    "\n",
    "df_train[\"Embarked\"][df_train[\"Embarked\"]==\"C\"] = 0\n",
    "df_train[\"Embarked\"][df_train[\"Embarked\"]==\"Q\"] = 1\n",
    "df_train[\"Embarked\"][df_train[\"Embarked\"]==\"S\"] = 2\n",
    "\n",
    "df_test[\"Embarked\"][df_test[\"Embarked\"]==\"C\"] = 0\n",
    "df_test[\"Embarked\"][df_test[\"Embarked\"]==\"Q\"] = 1\n",
    "df_test[\"Embarked\"][df_test[\"Embarked\"]==\"S\"] = 2"
   ]
  },
  {
   "cell_type": "markdown",
   "metadata": {
    "papermill": {
     "duration": 0.113137,
     "end_time": "2020-11-18T23:36:47.116071",
     "exception": false,
     "start_time": "2020-11-18T23:36:47.002934",
     "status": "completed"
    },
    "tags": []
   },
   "source": [
    "# Step 5 : Machine Learning Models\n",
    "\n",
    "Now, after confirmed that there is no missing values at all, we are going to train some Machine Learning models and select the best model to conduct the cross validation process based on their  average training accuracy (ACC score). \n",
    "\n",
    "First, we need to set the train set and the test set."
   ]
  },
  {
   "cell_type": "code",
   "execution_count": 37,
   "metadata": {
    "execution": {
     "iopub.execute_input": "2020-11-18T23:36:47.357872Z",
     "iopub.status.busy": "2020-11-18T23:36:47.356650Z",
     "iopub.status.idle": "2020-11-18T23:36:47.372569Z",
     "shell.execute_reply": "2020-11-18T23:36:47.371892Z"
    },
    "papermill": {
     "duration": 0.144396,
     "end_time": "2020-11-18T23:36:47.372691",
     "exception": false,
     "start_time": "2020-11-18T23:36:47.228295",
     "status": "completed"
    },
    "tags": []
   },
   "outputs": [
    {
     "name": "stdout",
     "output_type": "stream",
     "text": [
      "X shape: (891, 11)\n",
      "y shape: (891,)\n",
      "X_test shape: (418, 11)\n"
     ]
    }
   ],
   "source": [
    "y = df_train[\"Survived\"]\n",
    "\n",
    "features = [\"Pclass\", \"Sex\", \"Age\",'Family_Size_Grouped',\"Embarked\",'Fare']\n",
    "X = pd.get_dummies(df_train[features])\n",
    "X_test = pd.get_dummies(df_test[features])\n",
    "\n",
    "print('X shape: {}'.format(X.shape))\n",
    "print('y shape: {}'.format(y.shape))\n",
    "print('X_test shape: {}'.format(X_test.shape))\n"
   ]
  },
  {
   "cell_type": "markdown",
   "metadata": {
    "papermill": {
     "duration": 0.112878,
     "end_time": "2020-11-18T23:36:47.597676",
     "exception": false,
     "start_time": "2020-11-18T23:36:47.484798",
     "status": "completed"
    },
    "tags": []
   },
   "source": [
    "**Step 5.1 : Machine Learning Models -- Model Comparison**"
   ]
  },
  {
   "cell_type": "markdown",
   "metadata": {
    "papermill": {
     "duration": 0.113382,
     "end_time": "2020-11-18T23:36:47.824569",
     "exception": false,
     "start_time": "2020-11-18T23:36:47.711187",
     "status": "completed"
    },
    "tags": []
   },
   "source": [
    "Step 5.1.1 : Stochastic Gradient Descent (SGD):"
   ]
  },
  {
   "cell_type": "code",
   "execution_count": 38,
   "metadata": {
    "execution": {
     "iopub.execute_input": "2020-11-18T23:36:48.061551Z",
     "iopub.status.busy": "2020-11-18T23:36:48.060522Z",
     "iopub.status.idle": "2020-11-18T23:36:48.076236Z",
     "shell.execute_reply": "2020-11-18T23:36:48.075562Z"
    },
    "papermill": {
     "duration": 0.138904,
     "end_time": "2020-11-18T23:36:48.076364",
     "exception": false,
     "start_time": "2020-11-18T23:36:47.937460",
     "status": "completed"
    },
    "tags": []
   },
   "outputs": [],
   "source": [
    "sgd = linear_model.SGDClassifier(max_iter=5, tol=None)\n",
    "sgd.fit(X, y)\n",
    "y_pred = sgd.predict(X_test)\n",
    "\n",
    "sgd.score(X, y)\n",
    "\n",
    "acc_sgd = round(sgd.score(X, y) * 100, 2)"
   ]
  },
  {
   "cell_type": "markdown",
   "metadata": {
    "papermill": {
     "duration": 0.112318,
     "end_time": "2020-11-18T23:36:48.301557",
     "exception": false,
     "start_time": "2020-11-18T23:36:48.189239",
     "status": "completed"
    },
    "tags": []
   },
   "source": [
    "Step 5.1.2 : Random Forest"
   ]
  },
  {
   "cell_type": "code",
   "execution_count": 39,
   "metadata": {
    "execution": {
     "iopub.execute_input": "2020-11-18T23:36:48.538864Z",
     "iopub.status.busy": "2020-11-18T23:36:48.538086Z",
     "iopub.status.idle": "2020-11-18T23:36:48.911330Z",
     "shell.execute_reply": "2020-11-18T23:36:48.910685Z"
    },
    "papermill": {
     "duration": 0.496328,
     "end_time": "2020-11-18T23:36:48.911466",
     "exception": false,
     "start_time": "2020-11-18T23:36:48.415138",
     "status": "completed"
    },
    "tags": []
   },
   "outputs": [],
   "source": [
    "random_forest = RandomForestClassifier(n_estimators=100)\n",
    "random_forest.fit(X, y)\n",
    "\n",
    "y_prediction = random_forest.predict(X_test)\n",
    "\n",
    "random_forest.score(X, y)\n",
    "acc_random_forest = round(random_forest.score(X, y) * 100, 2)"
   ]
  },
  {
   "cell_type": "markdown",
   "metadata": {
    "papermill": {
     "duration": 0.114625,
     "end_time": "2020-11-18T23:36:49.139050",
     "exception": false,
     "start_time": "2020-11-18T23:36:49.024425",
     "status": "completed"
    },
    "tags": []
   },
   "source": [
    "Step 5.1.3 : Logistic Regression"
   ]
  },
  {
   "cell_type": "code",
   "execution_count": 40,
   "metadata": {
    "execution": {
     "iopub.execute_input": "2020-11-18T23:36:49.380923Z",
     "iopub.status.busy": "2020-11-18T23:36:49.379740Z",
     "iopub.status.idle": "2020-11-18T23:36:49.430684Z",
     "shell.execute_reply": "2020-11-18T23:36:49.429766Z"
    },
    "papermill": {
     "duration": 0.179433,
     "end_time": "2020-11-18T23:36:49.430859",
     "exception": false,
     "start_time": "2020-11-18T23:36:49.251426",
     "status": "completed"
    },
    "tags": []
   },
   "outputs": [],
   "source": [
    "logreg = LogisticRegression()\n",
    "logreg.fit(X, y)\n",
    "\n",
    "y_pred = logreg.predict(X_test)\n",
    "\n",
    "acc_log = round(logreg.score(X, y) * 100, 2)"
   ]
  },
  {
   "cell_type": "markdown",
   "metadata": {
    "papermill": {
     "duration": 0.112902,
     "end_time": "2020-11-18T23:36:49.660914",
     "exception": false,
     "start_time": "2020-11-18T23:36:49.548012",
     "status": "completed"
    },
    "tags": []
   },
   "source": [
    "Step 5.1.4 : K Nearest Neighbor"
   ]
  },
  {
   "cell_type": "code",
   "execution_count": 41,
   "metadata": {
    "execution": {
     "iopub.execute_input": "2020-11-18T23:36:49.897439Z",
     "iopub.status.busy": "2020-11-18T23:36:49.896649Z",
     "iopub.status.idle": "2020-11-18T23:36:49.968060Z",
     "shell.execute_reply": "2020-11-18T23:36:49.967361Z"
    },
    "papermill": {
     "duration": 0.193742,
     "end_time": "2020-11-18T23:36:49.968219",
     "exception": false,
     "start_time": "2020-11-18T23:36:49.774477",
     "status": "completed"
    },
    "tags": []
   },
   "outputs": [],
   "source": [
    "knn = KNeighborsClassifier(n_neighbors = 3) \n",
    "knn.fit(X, y)  \n",
    "y_pred = knn.predict(X_test)  \n",
    "acc_knn = round(knn.score(X, y) * 100, 2)"
   ]
  },
  {
   "cell_type": "markdown",
   "metadata": {
    "papermill": {
     "duration": 0.117156,
     "end_time": "2020-11-18T23:36:50.199886",
     "exception": false,
     "start_time": "2020-11-18T23:36:50.082730",
     "status": "completed"
    },
    "tags": []
   },
   "source": [
    "Step 5.1.5 : Gaussian Naive Bayes"
   ]
  },
  {
   "cell_type": "code",
   "execution_count": 42,
   "metadata": {
    "execution": {
     "iopub.execute_input": "2020-11-18T23:36:50.438573Z",
     "iopub.status.busy": "2020-11-18T23:36:50.437368Z",
     "iopub.status.idle": "2020-11-18T23:36:50.448740Z",
     "shell.execute_reply": "2020-11-18T23:36:50.447829Z"
    },
    "papermill": {
     "duration": 0.13475,
     "end_time": "2020-11-18T23:36:50.448897",
     "exception": false,
     "start_time": "2020-11-18T23:36:50.314147",
     "status": "completed"
    },
    "tags": []
   },
   "outputs": [],
   "source": [
    "gaussian = GaussianNB() \n",
    "gaussian.fit(X, y)  \n",
    "y_pred = gaussian.predict(X_test)  \n",
    "acc_gaussian = round(gaussian.score(X, y) * 100, 2)"
   ]
  },
  {
   "cell_type": "markdown",
   "metadata": {
    "papermill": {
     "duration": 0.112644,
     "end_time": "2020-11-18T23:36:50.675537",
     "exception": false,
     "start_time": "2020-11-18T23:36:50.562893",
     "status": "completed"
    },
    "tags": []
   },
   "source": [
    "Step 5.1.6 : Perceptron"
   ]
  },
  {
   "cell_type": "code",
   "execution_count": 43,
   "metadata": {
    "execution": {
     "iopub.execute_input": "2020-11-18T23:36:50.912383Z",
     "iopub.status.busy": "2020-11-18T23:36:50.910781Z",
     "iopub.status.idle": "2020-11-18T23:36:50.922071Z",
     "shell.execute_reply": "2020-11-18T23:36:50.921299Z"
    },
    "papermill": {
     "duration": 0.133504,
     "end_time": "2020-11-18T23:36:50.922211",
     "exception": false,
     "start_time": "2020-11-18T23:36:50.788707",
     "status": "completed"
    },
    "tags": []
   },
   "outputs": [],
   "source": [
    "perceptron = Perceptron(max_iter=5)\n",
    "perceptron.fit(X, y)\n",
    "\n",
    "y_pred = perceptron.predict(X_test)\n",
    "\n",
    "acc_perceptron = round(perceptron.score(X, y) * 100, 2)"
   ]
  },
  {
   "cell_type": "markdown",
   "metadata": {
    "papermill": {
     "duration": 0.114627,
     "end_time": "2020-11-18T23:36:51.150634",
     "exception": false,
     "start_time": "2020-11-18T23:36:51.036007",
     "status": "completed"
    },
    "tags": []
   },
   "source": [
    "Step 5.1.7 : Linear Support Vector Machine"
   ]
  },
  {
   "cell_type": "code",
   "execution_count": 44,
   "metadata": {
    "execution": {
     "iopub.execute_input": "2020-11-18T23:36:51.387350Z",
     "iopub.status.busy": "2020-11-18T23:36:51.386499Z",
     "iopub.status.idle": "2020-11-18T23:36:51.446572Z",
     "shell.execute_reply": "2020-11-18T23:36:51.445905Z"
    },
    "papermill": {
     "duration": 0.183059,
     "end_time": "2020-11-18T23:36:51.446735",
     "exception": false,
     "start_time": "2020-11-18T23:36:51.263676",
     "status": "completed"
    },
    "tags": []
   },
   "outputs": [],
   "source": [
    "linear_svc = LinearSVC()\n",
    "linear_svc.fit(X, y)\n",
    "\n",
    "y_pred = linear_svc.predict(X_test)\n",
    "\n",
    "acc_linear_svc = round(linear_svc.score(X, y) * 100, 2)"
   ]
  },
  {
   "cell_type": "markdown",
   "metadata": {
    "papermill": {
     "duration": 0.113622,
     "end_time": "2020-11-18T23:36:51.676271",
     "exception": false,
     "start_time": "2020-11-18T23:36:51.562649",
     "status": "completed"
    },
    "tags": []
   },
   "source": [
    "Step 5.1.8: Decision Tree"
   ]
  },
  {
   "cell_type": "code",
   "execution_count": 45,
   "metadata": {
    "execution": {
     "iopub.execute_input": "2020-11-18T23:36:51.915204Z",
     "iopub.status.busy": "2020-11-18T23:36:51.914350Z",
     "iopub.status.idle": "2020-11-18T23:36:51.926547Z",
     "shell.execute_reply": "2020-11-18T23:36:51.925848Z"
    },
    "papermill": {
     "duration": 0.136103,
     "end_time": "2020-11-18T23:36:51.926688",
     "exception": false,
     "start_time": "2020-11-18T23:36:51.790585",
     "status": "completed"
    },
    "tags": []
   },
   "outputs": [],
   "source": [
    "decision_tree = DecisionTreeClassifier() \n",
    "decision_tree.fit(X, y)  \n",
    "y_pred = decision_tree.predict(X_test)  \n",
    "acc_decision_tree = round(decision_tree.score(X, y) * 100, 2)"
   ]
  },
  {
   "cell_type": "markdown",
   "metadata": {
    "papermill": {
     "duration": 0.114461,
     "end_time": "2020-11-18T23:36:52.154935",
     "exception": false,
     "start_time": "2020-11-18T23:36:52.040474",
     "status": "completed"
    },
    "tags": []
   },
   "source": [
    "Step 5.1.9 Result Comparison"
   ]
  },
  {
   "cell_type": "code",
   "execution_count": 46,
   "metadata": {
    "execution": {
     "iopub.execute_input": "2020-11-18T23:36:52.400635Z",
     "iopub.status.busy": "2020-11-18T23:36:52.399685Z",
     "iopub.status.idle": "2020-11-18T23:36:52.404531Z",
     "shell.execute_reply": "2020-11-18T23:36:52.403949Z"
    },
    "papermill": {
     "duration": 0.135522,
     "end_time": "2020-11-18T23:36:52.404670",
     "exception": false,
     "start_time": "2020-11-18T23:36:52.269148",
     "status": "completed"
    },
    "tags": []
   },
   "outputs": [
    {
     "data": {
      "text/html": [
       "<div>\n",
       "<style scoped>\n",
       "    .dataframe tbody tr th:only-of-type {\n",
       "        vertical-align: middle;\n",
       "    }\n",
       "\n",
       "    .dataframe tbody tr th {\n",
       "        vertical-align: top;\n",
       "    }\n",
       "\n",
       "    .dataframe thead th {\n",
       "        text-align: right;\n",
       "    }\n",
       "</style>\n",
       "<table border=\"1\" class=\"dataframe\">\n",
       "  <thead>\n",
       "    <tr style=\"text-align: right;\">\n",
       "      <th></th>\n",
       "      <th>Model</th>\n",
       "    </tr>\n",
       "    <tr>\n",
       "      <th>Score</th>\n",
       "      <th></th>\n",
       "    </tr>\n",
       "  </thead>\n",
       "  <tbody>\n",
       "    <tr>\n",
       "      <th>98.20</th>\n",
       "      <td>Random Forest</td>\n",
       "    </tr>\n",
       "    <tr>\n",
       "      <th>98.20</th>\n",
       "      <td>Decision Tree</td>\n",
       "    </tr>\n",
       "    <tr>\n",
       "      <th>84.40</th>\n",
       "      <td>KNN</td>\n",
       "    </tr>\n",
       "    <tr>\n",
       "      <th>82.04</th>\n",
       "      <td>Support Vector Machines</td>\n",
       "    </tr>\n",
       "    <tr>\n",
       "      <th>81.93</th>\n",
       "      <td>Logistic Regression</td>\n",
       "    </tr>\n",
       "    <tr>\n",
       "      <th>79.12</th>\n",
       "      <td>Naive Bayes</td>\n",
       "    </tr>\n",
       "    <tr>\n",
       "      <th>72.05</th>\n",
       "      <td>Stochastic Gradient Decent</td>\n",
       "    </tr>\n",
       "    <tr>\n",
       "      <th>66.44</th>\n",
       "      <td>Perceptron</td>\n",
       "    </tr>\n",
       "  </tbody>\n",
       "</table>\n",
       "</div>"
      ],
      "text/plain": [
       "                            Model\n",
       "Score                            \n",
       "98.20               Random Forest\n",
       "98.20               Decision Tree\n",
       "84.40                         KNN\n",
       "82.04     Support Vector Machines\n",
       "81.93         Logistic Regression\n",
       "79.12                 Naive Bayes\n",
       "72.05  Stochastic Gradient Decent\n",
       "66.44                  Perceptron"
      ]
     },
     "execution_count": 46,
     "metadata": {},
     "output_type": "execute_result"
    }
   ],
   "source": [
    "results = pd.DataFrame({\n",
    "    'Model': ['Support Vector Machines', 'KNN', 'Logistic Regression', \n",
    "              'Random Forest', 'Naive Bayes', 'Perceptron', \n",
    "              'Stochastic Gradient Decent', \n",
    "              'Decision Tree'],\n",
    "    'Score': [acc_linear_svc, acc_knn, acc_log, \n",
    "              acc_random_forest, acc_gaussian, acc_perceptron, \n",
    "              acc_sgd, acc_decision_tree]})\n",
    "result_df = results.sort_values(by='Score', ascending=False)\n",
    "result_df = result_df.set_index('Score')\n",
    "result_df.head(9)"
   ]
  },
  {
   "cell_type": "markdown",
   "metadata": {
    "papermill": {
     "duration": 0.114747,
     "end_time": "2020-11-18T23:36:52.635029",
     "exception": false,
     "start_time": "2020-11-18T23:36:52.520282",
     "status": "completed"
    },
    "tags": []
   },
   "source": [
    "As the result shown that Random Forest has the best average training accuracy, therefore, we are choosing Random Forest to perform cross validation."
   ]
  },
  {
   "cell_type": "markdown",
   "metadata": {
    "papermill": {
     "duration": 0.11396,
     "end_time": "2020-11-18T23:36:52.863383",
     "exception": false,
     "start_time": "2020-11-18T23:36:52.749423",
     "status": "completed"
    },
    "tags": []
   },
   "source": [
    "**Step 5.2 : K-Fold Cross Validaton**\n",
    "\n",
    "The K-Fold Cross Validation randomly splits the training data into K subsets called folds. The random forest model would be trained and evaluated K times, using a different fold for evaluation everytime, while it would be trained on the remaining K-1 folds. Here I set K=10, the mean and the standard deviation are calculated as well."
   ]
  },
  {
   "cell_type": "code",
   "execution_count": 47,
   "metadata": {
    "execution": {
     "iopub.execute_input": "2020-11-18T23:36:53.103804Z",
     "iopub.status.busy": "2020-11-18T23:36:53.103033Z",
     "iopub.status.idle": "2020-11-18T23:36:56.547965Z",
     "shell.execute_reply": "2020-11-18T23:36:56.547021Z"
    },
    "papermill": {
     "duration": 3.569328,
     "end_time": "2020-11-18T23:36:56.548103",
     "exception": false,
     "start_time": "2020-11-18T23:36:52.978775",
     "status": "completed"
    },
    "tags": []
   },
   "outputs": [
    {
     "name": "stdout",
     "output_type": "stream",
     "text": [
      "Scores: [0.76666667 0.84269663 0.74157303 0.80898876 0.86516854 0.79775281\n",
      " 0.83146067 0.75280899 0.84269663 0.85393258]\n",
      "Mean: 0.8103745318352059\n",
      "Standard Deviation: 0.04189605250602086\n"
     ]
    }
   ],
   "source": [
    "from sklearn.model_selection import cross_val_score\n",
    "\n",
    "# K = 10\n",
    "ran_for = RandomForestClassifier(n_estimators=100,oob_score=True)\n",
    "scores = cross_val_score(ran_for, X, y, cv=10, scoring = \"accuracy\")\n",
    "print(\"Scores:\", scores)\n",
    "print(\"Mean:\", scores.mean())\n",
    "print(\"Standard Deviation:\", scores.std())"
   ]
  },
  {
   "cell_type": "code",
   "execution_count": 48,
   "metadata": {
    "execution": {
     "iopub.execute_input": "2020-11-18T23:36:56.791602Z",
     "iopub.status.busy": "2020-11-18T23:36:56.790463Z",
     "iopub.status.idle": "2020-11-18T23:36:57.206503Z",
     "shell.execute_reply": "2020-11-18T23:36:57.205710Z"
    },
    "papermill": {
     "duration": 0.540913,
     "end_time": "2020-11-18T23:36:57.206632",
     "exception": false,
     "start_time": "2020-11-18T23:36:56.665719",
     "status": "completed"
    },
    "tags": []
   },
   "outputs": [
    {
     "name": "stdout",
     "output_type": "stream",
     "text": [
      "98.2 %\n"
     ]
    }
   ],
   "source": [
    "# K = 10\n",
    "ran_for.fit(X, y)\n",
    "y_prediction = ran_for.predict(X_test)\n",
    "\n",
    "ran_for.score(X, y)\n",
    "\n",
    "acc_random_forest = round(ran_for.score(X, y) * 100, 2)\n",
    "print(round(acc_random_forest,2,), \"%\")"
   ]
  },
  {
   "cell_type": "markdown",
   "metadata": {
    "papermill": {
     "duration": 0.115236,
     "end_time": "2020-11-18T23:36:57.438293",
     "exception": false,
     "start_time": "2020-11-18T23:36:57.323057",
     "status": "completed"
    },
    "tags": []
   },
   "source": [
    "Here we can see that the average accuracy of Random Forest model after cross validation is about 81.6% with a standard deviation about 4%. This accuracy is more realistic than the ACC score which is 98.2%. Also, the accuray of 81.6% is good enough for a model with only 11 dummy variables generated by: Fare, Age, Embarked, Pclass, Sex and Family_Size_Grouped, where Age and Fare are still continuous features. And the 4% of standard deviation tolds us the prediction genereted by this model is reliable as well. The consistency does not fall a lot after I reduced a lot of features. "
   ]
  },
  {
   "cell_type": "markdown",
   "metadata": {
    "papermill": {
     "duration": 0.11618,
     "end_time": "2020-11-18T23:36:57.670158",
     "exception": false,
     "start_time": "2020-11-18T23:36:57.553978",
     "status": "completed"
    },
    "tags": []
   },
   "source": [
    "**Step 5.3 :  Feature Importance**\n",
    "\n",
    "From the table below we can see the relative importance of each feature. The table shows that Fare and Age are the most important features with importance rate about 0.3. I have to say that 0.3 is a large number for the relative importance Because we want to has many features and all features contribute a bit to predicting the target. But the more features we have, the more likely the model is overfitting the training data. Here I would like to say 0.3 is a reasonable number for Fare and Age since I left them as continuous features and I did not convert them into categorical features. I believe the relative importance will decrease if we convert all features into categorical features. "
   ]
  },
  {
   "cell_type": "code",
   "execution_count": 49,
   "metadata": {
    "execution": {
     "iopub.execute_input": "2020-11-18T23:36:57.909876Z",
     "iopub.status.busy": "2020-11-18T23:36:57.908720Z",
     "iopub.status.idle": "2020-11-18T23:36:57.931958Z",
     "shell.execute_reply": "2020-11-18T23:36:57.931189Z"
    },
    "papermill": {
     "duration": 0.146888,
     "end_time": "2020-11-18T23:36:57.932088",
     "exception": false,
     "start_time": "2020-11-18T23:36:57.785200",
     "status": "completed"
    },
    "tags": []
   },
   "outputs": [
    {
     "data": {
      "text/html": [
       "<div>\n",
       "<style scoped>\n",
       "    .dataframe tbody tr th:only-of-type {\n",
       "        vertical-align: middle;\n",
       "    }\n",
       "\n",
       "    .dataframe tbody tr th {\n",
       "        vertical-align: top;\n",
       "    }\n",
       "\n",
       "    .dataframe thead th {\n",
       "        text-align: right;\n",
       "    }\n",
       "</style>\n",
       "<table border=\"1\" class=\"dataframe\">\n",
       "  <thead>\n",
       "    <tr style=\"text-align: right;\">\n",
       "      <th></th>\n",
       "      <th>importance</th>\n",
       "    </tr>\n",
       "    <tr>\n",
       "      <th>feature</th>\n",
       "      <th></th>\n",
       "    </tr>\n",
       "  </thead>\n",
       "  <tbody>\n",
       "    <tr>\n",
       "      <th>Age</th>\n",
       "      <td>0.283</td>\n",
       "    </tr>\n",
       "    <tr>\n",
       "      <th>Fare</th>\n",
       "      <td>0.269</td>\n",
       "    </tr>\n",
       "    <tr>\n",
       "      <th>Sex_male</th>\n",
       "      <td>0.149</td>\n",
       "    </tr>\n",
       "    <tr>\n",
       "      <th>Sex_female</th>\n",
       "      <td>0.129</td>\n",
       "    </tr>\n",
       "    <tr>\n",
       "      <th>Pclass</th>\n",
       "      <td>0.078</td>\n",
       "    </tr>\n",
       "    <tr>\n",
       "      <th>Family_Size_Grouped_Large</th>\n",
       "      <td>0.023</td>\n",
       "    </tr>\n",
       "    <tr>\n",
       "      <th>Family_Size_Grouped_Normal</th>\n",
       "      <td>0.022</td>\n",
       "    </tr>\n",
       "    <tr>\n",
       "      <th>Family_Size_Grouped_Alone</th>\n",
       "      <td>0.016</td>\n",
       "    </tr>\n",
       "    <tr>\n",
       "      <th>Embarked_2</th>\n",
       "      <td>0.012</td>\n",
       "    </tr>\n",
       "    <tr>\n",
       "      <th>Embarked_0</th>\n",
       "      <td>0.011</td>\n",
       "    </tr>\n",
       "    <tr>\n",
       "      <th>Embarked_1</th>\n",
       "      <td>0.007</td>\n",
       "    </tr>\n",
       "  </tbody>\n",
       "</table>\n",
       "</div>"
      ],
      "text/plain": [
       "                            importance\n",
       "feature                               \n",
       "Age                              0.283\n",
       "Fare                             0.269\n",
       "Sex_male                         0.149\n",
       "Sex_female                       0.129\n",
       "Pclass                           0.078\n",
       "Family_Size_Grouped_Large        0.023\n",
       "Family_Size_Grouped_Normal       0.022\n",
       "Family_Size_Grouped_Alone        0.016\n",
       "Embarked_2                       0.012\n",
       "Embarked_0                       0.011\n",
       "Embarked_1                       0.007"
      ]
     },
     "execution_count": 49,
     "metadata": {},
     "output_type": "execute_result"
    }
   ],
   "source": [
    "importances = pd.DataFrame({'feature':X.columns,'importance':np.round(ran_for.feature_importances_,3)})\n",
    "importances = importances.sort_values('importance',ascending=False).set_index('feature')\n",
    "importances.head(11)"
   ]
  },
  {
   "cell_type": "markdown",
   "metadata": {
    "papermill": {
     "duration": 0.117427,
     "end_time": "2020-11-18T23:36:58.167742",
     "exception": false,
     "start_time": "2020-11-18T23:36:58.050315",
     "status": "completed"
    },
    "tags": []
   },
   "source": [
    "There is another method mentioned in others notebook which is out-of-bag estimate. It is as accurate as using a test set of the same size as the training set. We can conduct a out-of-bag estimate to see how well the Random Forest Model does. From the output below we see that the accuracy is still around 81.7% which means the Random Forest Model is doing well even I left Age and Fare as continuous features. "
   ]
  },
  {
   "cell_type": "code",
   "execution_count": 50,
   "metadata": {
    "execution": {
     "iopub.execute_input": "2020-11-18T23:36:58.409691Z",
     "iopub.status.busy": "2020-11-18T23:36:58.408677Z",
     "iopub.status.idle": "2020-11-18T23:36:58.412210Z",
     "shell.execute_reply": "2020-11-18T23:36:58.412989Z"
    },
    "papermill": {
     "duration": 0.128877,
     "end_time": "2020-11-18T23:36:58.413164",
     "exception": false,
     "start_time": "2020-11-18T23:36:58.284287",
     "status": "completed"
    },
    "tags": []
   },
   "outputs": [
    {
     "name": "stdout",
     "output_type": "stream",
     "text": [
      "out-of-bag score: 81.47999999999999 %\n"
     ]
    }
   ],
   "source": [
    "print(\"out-of-bag score:\", round(ran_for.oob_score_, 4)*100, \"%\")"
   ]
  },
  {
   "cell_type": "markdown",
   "metadata": {
    "papermill": {
     "duration": 0.118372,
     "end_time": "2020-11-18T23:36:58.649057",
     "exception": false,
     "start_time": "2020-11-18T23:36:58.530685",
     "status": "completed"
    },
    "tags": []
   },
   "source": [
    "**Step 5.4 : F1-Score and ROC-AUC Score**\n",
    "\n"
   ]
  },
  {
   "cell_type": "markdown",
   "metadata": {
    "papermill": {
     "duration": 0.117274,
     "end_time": "2020-11-18T23:36:58.885139",
     "exception": false,
     "start_time": "2020-11-18T23:36:58.767865",
     "status": "completed"
    },
    "tags": []
   },
   "source": [
    "Step 5.4.1 : F1-Score"
   ]
  },
  {
   "cell_type": "code",
   "execution_count": 51,
   "metadata": {
    "execution": {
     "iopub.execute_input": "2020-11-18T23:36:59.128808Z",
     "iopub.status.busy": "2020-11-18T23:36:59.128032Z",
     "iopub.status.idle": "2020-11-18T23:36:59.970594Z",
     "shell.execute_reply": "2020-11-18T23:36:59.969928Z"
    },
    "papermill": {
     "duration": 0.967664,
     "end_time": "2020-11-18T23:36:59.970743",
     "exception": false,
     "start_time": "2020-11-18T23:36:59.003079",
     "status": "completed"
    },
    "tags": []
   },
   "outputs": [],
   "source": [
    "from sklearn.model_selection import cross_val_predict\n",
    "pred = cross_val_predict(random_forest, X, y, cv=3)"
   ]
  },
  {
   "cell_type": "code",
   "execution_count": 52,
   "metadata": {
    "execution": {
     "iopub.execute_input": "2020-11-18T23:37:00.215685Z",
     "iopub.status.busy": "2020-11-18T23:37:00.214548Z",
     "iopub.status.idle": "2020-11-18T23:37:00.223667Z",
     "shell.execute_reply": "2020-11-18T23:37:00.224302Z"
    },
    "papermill": {
     "duration": 0.134542,
     "end_time": "2020-11-18T23:37:00.224471",
     "exception": false,
     "start_time": "2020-11-18T23:37:00.089929",
     "status": "completed"
    },
    "tags": []
   },
   "outputs": [
    {
     "name": "stdout",
     "output_type": "stream",
     "text": [
      "Precision: 0.7537993920972644\n",
      "Recall: 0.7251461988304093\n"
     ]
    }
   ],
   "source": [
    "from sklearn.metrics import precision_score, recall_score\n",
    "\n",
    "print(\"Precision:\", precision_score(y, pred))\n",
    "print(\"Recall:\",recall_score(y, pred))"
   ]
  },
  {
   "cell_type": "markdown",
   "metadata": {
    "papermill": {
     "duration": 0.125122,
     "end_time": "2020-11-18T23:37:00.468003",
     "exception": false,
     "start_time": "2020-11-18T23:37:00.342881",
     "status": "completed"
    },
    "tags": []
   },
   "source": [
    "Our model predicts 76% of the time, a passengers survival correctly (precision). The recall tells us that it predicted the survival of 74 % of the people who actually survived."
   ]
  },
  {
   "cell_type": "code",
   "execution_count": 53,
   "metadata": {
    "execution": {
     "iopub.execute_input": "2020-11-18T23:37:00.713387Z",
     "iopub.status.busy": "2020-11-18T23:37:00.712245Z",
     "iopub.status.idle": "2020-11-18T23:37:00.719872Z",
     "shell.execute_reply": "2020-11-18T23:37:00.720484Z"
    },
    "papermill": {
     "duration": 0.133232,
     "end_time": "2020-11-18T23:37:00.720649",
     "exception": false,
     "start_time": "2020-11-18T23:37:00.587417",
     "status": "completed"
    },
    "tags": []
   },
   "outputs": [
    {
     "name": "stdout",
     "output_type": "stream",
     "text": [
      "0.7391952309985097\n"
     ]
    }
   ],
   "source": [
    "from sklearn.metrics import f1_score\n",
    "F1_score = f1_score(y, pred)\n",
    "print(F1_score)"
   ]
  },
  {
   "cell_type": "markdown",
   "metadata": {
    "papermill": {
     "duration": 0.120267,
     "end_time": "2020-11-18T23:37:00.960269",
     "exception": false,
     "start_time": "2020-11-18T23:37:00.840002",
     "status": "completed"
    },
    "tags": []
   },
   "source": [
    "Here we have F-score of 75 %. But unfortunately the F-score is not good-looking but acceptable for the model I fit. Because I did not convert Age and Fare into categorcial features and the recall is not high either which is 74%"
   ]
  },
  {
   "cell_type": "markdown",
   "metadata": {
    "papermill": {
     "duration": 0.117542,
     "end_time": "2020-11-18T23:37:01.196295",
     "exception": false,
     "start_time": "2020-11-18T23:37:01.078753",
     "status": "completed"
    },
    "tags": []
   },
   "source": [
    "Step 5.4.2 : ROC-AUC Score"
   ]
  },
  {
   "cell_type": "code",
   "execution_count": 54,
   "metadata": {
    "execution": {
     "iopub.execute_input": "2020-11-18T23:37:01.448565Z",
     "iopub.status.busy": "2020-11-18T23:37:01.447752Z",
     "iopub.status.idle": "2020-11-18T23:37:01.478621Z",
     "shell.execute_reply": "2020-11-18T23:37:01.477615Z"
    },
    "papermill": {
     "duration": 0.158397,
     "end_time": "2020-11-18T23:37:01.478783",
     "exception": false,
     "start_time": "2020-11-18T23:37:01.320386",
     "status": "completed"
    },
    "tags": []
   },
   "outputs": [
    {
     "name": "stdout",
     "output_type": "stream",
     "text": [
      "ROC-AUC-Score: 0.9972597705557154\n"
     ]
    }
   ],
   "source": [
    "# getting the probabilities of our predictions\n",
    "from sklearn.metrics import roc_auc_score\n",
    "y_scores = random_forest.predict_proba(X)\n",
    "y_scores = y_scores[:,1]\n",
    "\n",
    "roc_auc_score = roc_auc_score(y, y_scores)\n",
    "print(\"ROC-AUC-Score:\", roc_auc_score)"
   ]
  },
  {
   "cell_type": "markdown",
   "metadata": {
    "papermill": {
     "duration": 0.118825,
     "end_time": "2020-11-18T23:37:01.717665",
     "exception": false,
     "start_time": "2020-11-18T23:37:01.598840",
     "status": "completed"
    },
    "tags": []
   },
   "source": [
    "A classifiers that is 100% correct, would have a ROC AUC Score of 1 and a completely random classiffier would have a score of 0.5. Here, The ROC-AUC score for my model is surperisingly high which is good. "
   ]
  },
  {
   "cell_type": "markdown",
   "metadata": {
    "papermill": {
     "duration": 0.119888,
     "end_time": "2020-11-18T23:37:01.956523",
     "exception": false,
     "start_time": "2020-11-18T23:37:01.836635",
     "status": "completed"
    },
    "tags": []
   },
   "source": [
    "# Step 6 : Final Output"
   ]
  },
  {
   "cell_type": "markdown",
   "metadata": {
    "papermill": {
     "duration": 0.118386,
     "end_time": "2020-11-18T23:37:02.195395",
     "exception": false,
     "start_time": "2020-11-18T23:37:02.077009",
     "status": "completed"
    },
    "tags": []
   },
   "source": [
    "My prediction has a public score about 70% on Kaggle which is reasonable for the model I set. I believe the score will be improved if I convert Age and Fare into categorical features. "
   ]
  },
  {
   "cell_type": "code",
   "execution_count": 55,
   "metadata": {
    "execution": {
     "iopub.execute_input": "2020-11-18T23:37:02.441450Z",
     "iopub.status.busy": "2020-11-18T23:37:02.440354Z",
     "iopub.status.idle": "2020-11-18T23:37:02.912626Z",
     "shell.execute_reply": "2020-11-18T23:37:02.911742Z"
    },
    "papermill": {
     "duration": 0.598706,
     "end_time": "2020-11-18T23:37:02.912758",
     "exception": false,
     "start_time": "2020-11-18T23:37:02.314052",
     "status": "completed"
    },
    "tags": []
   },
   "outputs": [],
   "source": [
    "output = pd.DataFrame({\"PassengerId\": df_test[\"PassengerId\"],\"Survived\": y_prediction})\n",
    "\n",
    "output.to_csv('shaoshizhang.csv', index=False)"
   ]
  }
 ],
 "metadata": {
  "kernelspec": {
   "display_name": "Python 3",
   "language": "python",
   "name": "python3"
  },
  "language_info": {
   "codemirror_mode": {
    "name": "ipython",
    "version": 3
   },
   "file_extension": ".py",
   "mimetype": "text/x-python",
   "name": "python",
   "nbconvert_exporter": "python",
   "pygments_lexer": "ipython3",
   "version": "3.7.6"
  },
  "papermill": {
   "duration": 43.117769,
   "end_time": "2020-11-18T23:37:03.141607",
   "environment_variables": {},
   "exception": null,
   "input_path": "__notebook__.ipynb",
   "output_path": "__notebook__.ipynb",
   "parameters": {},
   "start_time": "2020-11-18T23:36:20.023838",
   "version": "2.1.0"
  }
 },
 "nbformat": 4,
 "nbformat_minor": 4
}
